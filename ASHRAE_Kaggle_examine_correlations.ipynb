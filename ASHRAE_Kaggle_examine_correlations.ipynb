{
 "cells": [
  {
   "cell_type": "code",
   "execution_count": 1,
   "metadata": {},
   "outputs": [],
   "source": [
    "import pandas as pd\n",
    "from IPython.display import display\n",
    "import matplotlib.pyplot as plt\n",
    "\n",
    "import ashrae_constants as const\n",
    "import prepare_data as prep\n",
    "import explore_correlations as exp"
   ]
  },
  {
   "cell_type": "markdown",
   "metadata": {},
   "source": [
    "# Import the data"
   ]
  },
  {
   "cell_type": "code",
   "execution_count": 2,
   "metadata": {},
   "outputs": [
    {
     "name": "stdout",
     "output_type": "stream",
     "text": [
      "Importing data from train_store_joined.h5\n"
     ]
    }
   ],
   "source": [
    "#only train data needed here\n",
    "joined_data_dict = prep.get_joined_data(dataset_names=['train'])"
   ]
  },
  {
   "cell_type": "code",
   "execution_count": 3,
   "metadata": {},
   "outputs": [],
   "source": [
    "train_all_dict = joined_data_dict['train']"
   ]
  },
  {
   "cell_type": "code",
   "execution_count": 4,
   "metadata": {},
   "outputs": [
    {
     "name": "stdout",
     "output_type": "stream",
     "text": [
      "Importing data from train_small_store_joined.h5\n",
      "Importing data from test_small_store_joined.h5\n"
     ]
    }
   ],
   "source": [
    "small_train_all_dict = prep.produce_and_cache_small_dataset_dict('train')\n",
    "small_test_all_dict = prep.produce_and_cache_small_dataset_dict('test')"
   ]
  },
  {
   "cell_type": "code",
   "execution_count": 5,
   "metadata": {
    "scrolled": true
   },
   "outputs": [
    {
     "data": {
      "text/html": [
       "<div>\n",
       "<style scoped>\n",
       "    .dataframe tbody tr th:only-of-type {\n",
       "        vertical-align: middle;\n",
       "    }\n",
       "\n",
       "    .dataframe tbody tr th {\n",
       "        vertical-align: top;\n",
       "    }\n",
       "\n",
       "    .dataframe thead th {\n",
       "        text-align: right;\n",
       "    }\n",
       "</style>\n",
       "<table border=\"1\" class=\"dataframe\">\n",
       "  <thead>\n",
       "    <tr style=\"text-align: right;\">\n",
       "      <th></th>\n",
       "      <th></th>\n",
       "      <th>meter</th>\n",
       "      <th>meter_reading</th>\n",
       "      <th>meter_type</th>\n",
       "      <th>site_id</th>\n",
       "      <th>primary_use</th>\n",
       "      <th>square_feet</th>\n",
       "      <th>year_built</th>\n",
       "      <th>floor_count</th>\n",
       "      <th>air_temperature</th>\n",
       "      <th>cloud_coverage</th>\n",
       "      <th>dew_temperature</th>\n",
       "      <th>precip_depth_1_hr</th>\n",
       "      <th>sea_level_pressure</th>\n",
       "      <th>wind_direction</th>\n",
       "      <th>wind_speed</th>\n",
       "      <th>hour</th>\n",
       "      <th>weekday</th>\n",
       "      <th>week_number</th>\n",
       "      <th>month</th>\n",
       "      <th>is_weekend</th>\n",
       "    </tr>\n",
       "    <tr>\n",
       "      <th>building_id</th>\n",
       "      <th>timestamp</th>\n",
       "      <th></th>\n",
       "      <th></th>\n",
       "      <th></th>\n",
       "      <th></th>\n",
       "      <th></th>\n",
       "      <th></th>\n",
       "      <th></th>\n",
       "      <th></th>\n",
       "      <th></th>\n",
       "      <th></th>\n",
       "      <th></th>\n",
       "      <th></th>\n",
       "      <th></th>\n",
       "      <th></th>\n",
       "      <th></th>\n",
       "      <th></th>\n",
       "      <th></th>\n",
       "      <th></th>\n",
       "      <th></th>\n",
       "      <th></th>\n",
       "    </tr>\n",
       "  </thead>\n",
       "  <tbody>\n",
       "    <tr>\n",
       "      <th rowspan=\"5\" valign=\"top\">0</th>\n",
       "      <th>2016-01-01 00:00:00</th>\n",
       "      <td>0</td>\n",
       "      <td>0.000</td>\n",
       "      <td>electricity</td>\n",
       "      <td>0</td>\n",
       "      <td>Education</td>\n",
       "      <td>7432</td>\n",
       "      <td>2008.0</td>\n",
       "      <td>NaN</td>\n",
       "      <td>25.0</td>\n",
       "      <td>6.000000</td>\n",
       "      <td>20.0</td>\n",
       "      <td>-1.0</td>\n",
       "      <td>1019.7</td>\n",
       "      <td>0.0</td>\n",
       "      <td>0.0</td>\n",
       "      <td>0</td>\n",
       "      <td>4</td>\n",
       "      <td>53</td>\n",
       "      <td>1</td>\n",
       "      <td>0</td>\n",
       "    </tr>\n",
       "    <tr>\n",
       "      <th>2016-01-01 01:00:00</th>\n",
       "      <td>0</td>\n",
       "      <td>0.000</td>\n",
       "      <td>electricity</td>\n",
       "      <td>0</td>\n",
       "      <td>Education</td>\n",
       "      <td>7432</td>\n",
       "      <td>2008.0</td>\n",
       "      <td>NaN</td>\n",
       "      <td>24.4</td>\n",
       "      <td>4.000000</td>\n",
       "      <td>21.1</td>\n",
       "      <td>-1.0</td>\n",
       "      <td>1020.2</td>\n",
       "      <td>70.0</td>\n",
       "      <td>1.5</td>\n",
       "      <td>1</td>\n",
       "      <td>4</td>\n",
       "      <td>53</td>\n",
       "      <td>1</td>\n",
       "      <td>0</td>\n",
       "    </tr>\n",
       "    <tr>\n",
       "      <th>2016-01-01 02:00:00</th>\n",
       "      <td>0</td>\n",
       "      <td>0.000</td>\n",
       "      <td>electricity</td>\n",
       "      <td>0</td>\n",
       "      <td>Education</td>\n",
       "      <td>7432</td>\n",
       "      <td>2008.0</td>\n",
       "      <td>NaN</td>\n",
       "      <td>22.8</td>\n",
       "      <td>2.000000</td>\n",
       "      <td>21.1</td>\n",
       "      <td>0.0</td>\n",
       "      <td>1020.2</td>\n",
       "      <td>0.0</td>\n",
       "      <td>0.0</td>\n",
       "      <td>2</td>\n",
       "      <td>4</td>\n",
       "      <td>53</td>\n",
       "      <td>1</td>\n",
       "      <td>0</td>\n",
       "    </tr>\n",
       "    <tr>\n",
       "      <th>2016-01-01 03:00:00</th>\n",
       "      <td>0</td>\n",
       "      <td>0.000</td>\n",
       "      <td>electricity</td>\n",
       "      <td>0</td>\n",
       "      <td>Education</td>\n",
       "      <td>7432</td>\n",
       "      <td>2008.0</td>\n",
       "      <td>NaN</td>\n",
       "      <td>21.1</td>\n",
       "      <td>2.000000</td>\n",
       "      <td>20.6</td>\n",
       "      <td>0.0</td>\n",
       "      <td>1020.1</td>\n",
       "      <td>0.0</td>\n",
       "      <td>0.0</td>\n",
       "      <td>3</td>\n",
       "      <td>4</td>\n",
       "      <td>53</td>\n",
       "      <td>1</td>\n",
       "      <td>0</td>\n",
       "    </tr>\n",
       "    <tr>\n",
       "      <th>2016-01-01 04:00:00</th>\n",
       "      <td>0</td>\n",
       "      <td>0.000</td>\n",
       "      <td>electricity</td>\n",
       "      <td>0</td>\n",
       "      <td>Education</td>\n",
       "      <td>7432</td>\n",
       "      <td>2008.0</td>\n",
       "      <td>NaN</td>\n",
       "      <td>20.0</td>\n",
       "      <td>2.000000</td>\n",
       "      <td>20.0</td>\n",
       "      <td>-1.0</td>\n",
       "      <td>1020.0</td>\n",
       "      <td>250.0</td>\n",
       "      <td>2.6</td>\n",
       "      <td>4</td>\n",
       "      <td>4</td>\n",
       "      <td>53</td>\n",
       "      <td>1</td>\n",
       "      <td>0</td>\n",
       "    </tr>\n",
       "    <tr>\n",
       "      <th>...</th>\n",
       "      <th>...</th>\n",
       "      <td>...</td>\n",
       "      <td>...</td>\n",
       "      <td>...</td>\n",
       "      <td>...</td>\n",
       "      <td>...</td>\n",
       "      <td>...</td>\n",
       "      <td>...</td>\n",
       "      <td>...</td>\n",
       "      <td>...</td>\n",
       "      <td>...</td>\n",
       "      <td>...</td>\n",
       "      <td>...</td>\n",
       "      <td>...</td>\n",
       "      <td>...</td>\n",
       "      <td>...</td>\n",
       "      <td>...</td>\n",
       "      <td>...</td>\n",
       "      <td>...</td>\n",
       "      <td>...</td>\n",
       "      <td>...</td>\n",
       "    </tr>\n",
       "    <tr>\n",
       "      <th rowspan=\"5\" valign=\"top\">58</th>\n",
       "      <th>2016-06-30 22:00:00</th>\n",
       "      <td>0</td>\n",
       "      <td>391.448</td>\n",
       "      <td>electricity</td>\n",
       "      <td>0</td>\n",
       "      <td>Lodging/residential</td>\n",
       "      <td>83379</td>\n",
       "      <td>2013.0</td>\n",
       "      <td>NaN</td>\n",
       "      <td>27.2</td>\n",
       "      <td>5.200000</td>\n",
       "      <td>24.0</td>\n",
       "      <td>61.0</td>\n",
       "      <td>1015.6</td>\n",
       "      <td>160.0</td>\n",
       "      <td>5.1</td>\n",
       "      <td>22</td>\n",
       "      <td>3</td>\n",
       "      <td>26</td>\n",
       "      <td>6</td>\n",
       "      <td>0</td>\n",
       "    </tr>\n",
       "    <tr>\n",
       "      <th>2016-06-30 23:00:00</th>\n",
       "      <td>0</td>\n",
       "      <td>398.956</td>\n",
       "      <td>electricity</td>\n",
       "      <td>0</td>\n",
       "      <td>Lodging/residential</td>\n",
       "      <td>83379</td>\n",
       "      <td>2013.0</td>\n",
       "      <td>NaN</td>\n",
       "      <td>26.7</td>\n",
       "      <td>5.600000</td>\n",
       "      <td>23.9</td>\n",
       "      <td>5.0</td>\n",
       "      <td>1016.5</td>\n",
       "      <td>20.0</td>\n",
       "      <td>4.1</td>\n",
       "      <td>23</td>\n",
       "      <td>3</td>\n",
       "      <td>26</td>\n",
       "      <td>6</td>\n",
       "      <td>0</td>\n",
       "    </tr>\n",
       "    <tr>\n",
       "      <th>2016-07-01 00:00:00</th>\n",
       "      <td>0</td>\n",
       "      <td>385.305</td>\n",
       "      <td>electricity</td>\n",
       "      <td>0</td>\n",
       "      <td>Lodging/residential</td>\n",
       "      <td>83379</td>\n",
       "      <td>2013.0</td>\n",
       "      <td>NaN</td>\n",
       "      <td>24.4</td>\n",
       "      <td>6.000000</td>\n",
       "      <td>22.8</td>\n",
       "      <td>5.0</td>\n",
       "      <td>1017.3</td>\n",
       "      <td>30.0</td>\n",
       "      <td>6.2</td>\n",
       "      <td>0</td>\n",
       "      <td>4</td>\n",
       "      <td>26</td>\n",
       "      <td>7</td>\n",
       "      <td>0</td>\n",
       "    </tr>\n",
       "    <tr>\n",
       "      <th>2016-07-01 01:00:00</th>\n",
       "      <td>0</td>\n",
       "      <td>359.709</td>\n",
       "      <td>electricity</td>\n",
       "      <td>0</td>\n",
       "      <td>Lodging/residential</td>\n",
       "      <td>83379</td>\n",
       "      <td>2013.0</td>\n",
       "      <td>NaN</td>\n",
       "      <td>25.0</td>\n",
       "      <td>6.333333</td>\n",
       "      <td>22.8</td>\n",
       "      <td>0.0</td>\n",
       "      <td>1017.5</td>\n",
       "      <td>310.0</td>\n",
       "      <td>1.5</td>\n",
       "      <td>1</td>\n",
       "      <td>4</td>\n",
       "      <td>26</td>\n",
       "      <td>7</td>\n",
       "      <td>0</td>\n",
       "    </tr>\n",
       "    <tr>\n",
       "      <th>2016-07-01 02:00:00</th>\n",
       "      <td>0</td>\n",
       "      <td>356.979</td>\n",
       "      <td>electricity</td>\n",
       "      <td>0</td>\n",
       "      <td>Lodging/residential</td>\n",
       "      <td>83379</td>\n",
       "      <td>2013.0</td>\n",
       "      <td>NaN</td>\n",
       "      <td>24.4</td>\n",
       "      <td>6.666667</td>\n",
       "      <td>22.8</td>\n",
       "      <td>0.0</td>\n",
       "      <td>1017.2</td>\n",
       "      <td>120.0</td>\n",
       "      <td>2.6</td>\n",
       "      <td>2</td>\n",
       "      <td>4</td>\n",
       "      <td>26</td>\n",
       "      <td>7</td>\n",
       "      <td>0</td>\n",
       "    </tr>\n",
       "  </tbody>\n",
       "</table>\n",
       "<p>500000 rows × 20 columns</p>\n",
       "</div>"
      ],
      "text/plain": [
       "                                 meter  meter_reading   meter_type  site_id  \\\n",
       "building_id timestamp                                                         \n",
       "0           2016-01-01 00:00:00      0          0.000  electricity        0   \n",
       "            2016-01-01 01:00:00      0          0.000  electricity        0   \n",
       "            2016-01-01 02:00:00      0          0.000  electricity        0   \n",
       "            2016-01-01 03:00:00      0          0.000  electricity        0   \n",
       "            2016-01-01 04:00:00      0          0.000  electricity        0   \n",
       "...                                ...            ...          ...      ...   \n",
       "58          2016-06-30 22:00:00      0        391.448  electricity        0   \n",
       "            2016-06-30 23:00:00      0        398.956  electricity        0   \n",
       "            2016-07-01 00:00:00      0        385.305  electricity        0   \n",
       "            2016-07-01 01:00:00      0        359.709  electricity        0   \n",
       "            2016-07-01 02:00:00      0        356.979  electricity        0   \n",
       "\n",
       "                                         primary_use  square_feet  year_built  \\\n",
       "building_id timestamp                                                           \n",
       "0           2016-01-01 00:00:00            Education         7432      2008.0   \n",
       "            2016-01-01 01:00:00            Education         7432      2008.0   \n",
       "            2016-01-01 02:00:00            Education         7432      2008.0   \n",
       "            2016-01-01 03:00:00            Education         7432      2008.0   \n",
       "            2016-01-01 04:00:00            Education         7432      2008.0   \n",
       "...                                              ...          ...         ...   \n",
       "58          2016-06-30 22:00:00  Lodging/residential        83379      2013.0   \n",
       "            2016-06-30 23:00:00  Lodging/residential        83379      2013.0   \n",
       "            2016-07-01 00:00:00  Lodging/residential        83379      2013.0   \n",
       "            2016-07-01 01:00:00  Lodging/residential        83379      2013.0   \n",
       "            2016-07-01 02:00:00  Lodging/residential        83379      2013.0   \n",
       "\n",
       "                                 floor_count  air_temperature  cloud_coverage  \\\n",
       "building_id timestamp                                                           \n",
       "0           2016-01-01 00:00:00          NaN             25.0        6.000000   \n",
       "            2016-01-01 01:00:00          NaN             24.4        4.000000   \n",
       "            2016-01-01 02:00:00          NaN             22.8        2.000000   \n",
       "            2016-01-01 03:00:00          NaN             21.1        2.000000   \n",
       "            2016-01-01 04:00:00          NaN             20.0        2.000000   \n",
       "...                                      ...              ...             ...   \n",
       "58          2016-06-30 22:00:00          NaN             27.2        5.200000   \n",
       "            2016-06-30 23:00:00          NaN             26.7        5.600000   \n",
       "            2016-07-01 00:00:00          NaN             24.4        6.000000   \n",
       "            2016-07-01 01:00:00          NaN             25.0        6.333333   \n",
       "            2016-07-01 02:00:00          NaN             24.4        6.666667   \n",
       "\n",
       "                                 dew_temperature  precip_depth_1_hr  \\\n",
       "building_id timestamp                                                 \n",
       "0           2016-01-01 00:00:00             20.0               -1.0   \n",
       "            2016-01-01 01:00:00             21.1               -1.0   \n",
       "            2016-01-01 02:00:00             21.1                0.0   \n",
       "            2016-01-01 03:00:00             20.6                0.0   \n",
       "            2016-01-01 04:00:00             20.0               -1.0   \n",
       "...                                          ...                ...   \n",
       "58          2016-06-30 22:00:00             24.0               61.0   \n",
       "            2016-06-30 23:00:00             23.9                5.0   \n",
       "            2016-07-01 00:00:00             22.8                5.0   \n",
       "            2016-07-01 01:00:00             22.8                0.0   \n",
       "            2016-07-01 02:00:00             22.8                0.0   \n",
       "\n",
       "                                 sea_level_pressure  wind_direction  \\\n",
       "building_id timestamp                                                 \n",
       "0           2016-01-01 00:00:00              1019.7             0.0   \n",
       "            2016-01-01 01:00:00              1020.2            70.0   \n",
       "            2016-01-01 02:00:00              1020.2             0.0   \n",
       "            2016-01-01 03:00:00              1020.1             0.0   \n",
       "            2016-01-01 04:00:00              1020.0           250.0   \n",
       "...                                             ...             ...   \n",
       "58          2016-06-30 22:00:00              1015.6           160.0   \n",
       "            2016-06-30 23:00:00              1016.5            20.0   \n",
       "            2016-07-01 00:00:00              1017.3            30.0   \n",
       "            2016-07-01 01:00:00              1017.5           310.0   \n",
       "            2016-07-01 02:00:00              1017.2           120.0   \n",
       "\n",
       "                                 wind_speed  hour  weekday  week_number  \\\n",
       "building_id timestamp                                                     \n",
       "0           2016-01-01 00:00:00         0.0     0        4           53   \n",
       "            2016-01-01 01:00:00         1.5     1        4           53   \n",
       "            2016-01-01 02:00:00         0.0     2        4           53   \n",
       "            2016-01-01 03:00:00         0.0     3        4           53   \n",
       "            2016-01-01 04:00:00         2.6     4        4           53   \n",
       "...                                     ...   ...      ...          ...   \n",
       "58          2016-06-30 22:00:00         5.1    22        3           26   \n",
       "            2016-06-30 23:00:00         4.1    23        3           26   \n",
       "            2016-07-01 00:00:00         6.2     0        4           26   \n",
       "            2016-07-01 01:00:00         1.5     1        4           26   \n",
       "            2016-07-01 02:00:00         2.6     2        4           26   \n",
       "\n",
       "                                 month  is_weekend  \n",
       "building_id timestamp                               \n",
       "0           2016-01-01 00:00:00      1           0  \n",
       "            2016-01-01 01:00:00      1           0  \n",
       "            2016-01-01 02:00:00      1           0  \n",
       "            2016-01-01 03:00:00      1           0  \n",
       "            2016-01-01 04:00:00      1           0  \n",
       "...                                ...         ...  \n",
       "58          2016-06-30 22:00:00      6           0  \n",
       "            2016-06-30 23:00:00      6           0  \n",
       "            2016-07-01 00:00:00      7           0  \n",
       "            2016-07-01 01:00:00      7           0  \n",
       "            2016-07-01 02:00:00      7           0  \n",
       "\n",
       "[500000 rows x 20 columns]"
      ]
     },
     "execution_count": 5,
     "metadata": {},
     "output_type": "execute_result"
    }
   ],
   "source": [
    "small_train_all_dict['electricity']"
   ]
  },
  {
   "cell_type": "markdown",
   "metadata": {},
   "source": [
    "# 1. Correlate features with meter reading for each building and meter type"
   ]
  },
  {
   "cell_type": "code",
   "execution_count": null,
   "metadata": {},
   "outputs": [
    {
     "name": "stdout",
     "output_type": "stream",
     "text": [
      "Meter type:  electricity\n"
     ]
    },
    {
     "data": {
      "image/png": "[encoded data removed]",
      "text/plain": [
       "<Figure size 432x288 with 1 Axes>"
      ]
     },
     "metadata": {
      "needs_background": "light"
     },
     "output_type": "display_data"
    },
    {
     "data": {
      "image/png": "[encoded data removed]",
      "text/plain": [
       "<Figure size 432x288 with 1 Axes>"
      ]
     },
     "metadata": {
      "needs_background": "light"
     },
     "output_type": "display_data"
    },
    {
     "data": {
      "image/png": "[encoded data removed]",
      "text/plain": [
       "<Figure size 432x288 with 1 Axes>"
      ]
     },
     "metadata": {
      "needs_background": "light"
     },
     "output_type": "display_data"
    }
   ],
   "source": [
    "correlations = {}\n",
    "for meter_type, train_all_df in train_all_dict.items():\n",
    "    print(\"Meter type: \", meter_type)\n",
    "    correlations[meter_type] = exp.produce_correlation_df(train_all_df)\n",
    "    exp.plot_correlations(correlations[meter_type])"
   ]
  },
  {
   "cell_type": "code",
   "execution_count": null,
   "metadata": {},
   "outputs": [],
   "source": [
    "correlations['steam']"
   ]
  },
  {
   "cell_type": "code",
   "execution_count": null,
   "metadata": {},
   "outputs": [],
   "source": [
    "# up to here with refactoring"
   ]
  },
  {
   "cell_type": "markdown",
   "metadata": {},
   "source": [
    "# 2. Integrate data over a week and look at impact of weather variables then (to take away time dependance)"
   ]
  },
  {
   "cell_type": "code",
   "execution_count": null,
   "metadata": {},
   "outputs": [],
   "source": [
    "WEEKLY_ATTRIBUTES = ['meter_reading','air_temperature', 'cloud_coverage', 'dew_temperature','precip_depth_1_hr',\n",
    "                     'sea_level_pressure', 'wind_direction','wind_speed', 'week_number', 'month']\n",
    "WEEKLY_CORRELATORS = ['air_temperature', 'cloud_coverage', 'dew_temperature','precip_depth_1_hr',\n",
    "                      'sea_level_pressure', 'wind_direction','wind_speed', 'month']"
   ]
  },
  {
   "cell_type": "code",
   "execution_count": null,
   "metadata": {},
   "outputs": [],
   "source": [
    "def produce_weekly_average_data(df, weekly_attributes=WEEKLY_ATTRIBUTES):\n",
    "    df_weekly_means = df[weekly_attributes].groupby(['building_id', 'week_number']).mean()\n",
    "    df_weekly_means['building_id'] = list(df_weekly_means.index.get_level_values('building_id'))\n",
    "    return df_weekly_means\n",
    "\n",
    "def produce_weekly_degree_hours(df, set_point_temp):\n",
    "    df_temp = df[['meter_reading','air_temperature','week_number']].copy()\n",
    "    df_temp['delta_temp'] = df_temp['air_temperature'] - set_point_temp\n",
    "    df_temp = df_temp.drop(columns='air_temperature')\n",
    "    df_weekly_dh = df_temp.groupby(['building_id', 'week_number']).sum()  \n",
    "    df_weekly_dh['building_id'] = list(df_weekly_dh.index.get_level_values('building_id'))\n",
    "    return df_weekly_dh\n",
    "    "
   ]
  },
  {
   "cell_type": "code",
   "execution_count": null,
   "metadata": {},
   "outputs": [],
   "source": [
    "set_point_C = 13"
   ]
  },
  {
   "cell_type": "markdown",
   "metadata": {},
   "source": [
    "#### Electric meters"
   ]
  },
  {
   "cell_type": "code",
   "execution_count": null,
   "metadata": {},
   "outputs": [],
   "source": [
    "elec_weekly_means_df = produce_weekly_average_data(elec_train)\n",
    "elec_weekly_means_corrs = produce_correlation_df(elec_weekly_means_df, correlators=WEEKLY_CORRELATORS)\n",
    "\n",
    "elec_weekly_dh_df = produce_weekly_degree_hours(elec_train, set_point_C )\n",
    "elec_weekly_dh_corrs = produce_correlation_df(elec_weekly_dh_df , correlators=['delta_temp'])\n",
    "\n",
    "explore_correlations(elec_weekly_means_corrs)\n",
    "plot_correlation_distribution(elec_weekly_dh_corrs )"
   ]
  },
  {
   "cell_type": "markdown",
   "metadata": {},
   "source": [
    "#### Chilled water meters"
   ]
  },
  {
   "cell_type": "code",
   "execution_count": null,
   "metadata": {},
   "outputs": [],
   "source": [
    "chilledwater_weekly_means_df = produce_weekly_average_data(chilledwater_train)\n",
    "chilledwater_weekly_means_corrs = produce_correlation_df(chilledwater_weekly_means_df ,\n",
    "                                                         correlators=WEEKLY_CORRELATORS)\n",
    "\n",
    "chilledwater_weekly_dh_df = produce_weekly_degree_hours(chilledwater_train, set_point_C )\n",
    "chilledwater_weekly_dh_corrs = produce_correlation_df(chilledwater_weekly_dh_df, correlators=['delta_temp'])\n",
    "\n",
    "explore_correlations(chilledwater_weekly_means_corrs)\n",
    "plot_correlation_distribution(chilledwater_weekly_dh_corrs )"
   ]
  },
  {
   "cell_type": "markdown",
   "metadata": {},
   "source": [
    "#### Hot water meters"
   ]
  },
  {
   "cell_type": "code",
   "execution_count": null,
   "metadata": {},
   "outputs": [],
   "source": [
    "hotwater_weekly_means_df = produce_weekly_average_data(hotwater_train)\n",
    "hotwater_weekly_means_corrs = produce_correlation_df(hotwater_weekly_means_df , correlators=WEEKLY_CORRELATORS)\n",
    "\n",
    "hotwater_weekly_dh_df = produce_weekly_degree_hours(hotwater_train, set_point_C )\n",
    "hotwater_weekly_dh_corrs = produce_correlation_df(hotwater_weekly_dh_df, correlators=['delta_temp'])\n",
    "\n",
    "explore_correlations(hotwater_weekly_means_corrs)\n",
    "plot_correlation_distribution(hotwater_weekly_dh_corrs )"
   ]
  },
  {
   "cell_type": "markdown",
   "metadata": {},
   "source": [
    "#### Steam meters"
   ]
  },
  {
   "cell_type": "code",
   "execution_count": null,
   "metadata": {},
   "outputs": [],
   "source": [
    "steam_weekly_means_df = produce_weekly_average_data(steam_train)\n",
    "steam_weekly_means_corrs = produce_correlation_df(steam_weekly_means_df , correlators=WEEKLY_CORRELATORS)\n",
    "\n",
    "steam_weekly_dh_df = produce_weekly_degree_hours(steam_train, set_point_C )\n",
    "steam_weekly_dh_corrs = produce_correlation_df(steam_weekly_dh_df, correlators=['delta_temp'])\n",
    "\n",
    "explore_correlations(steam_weekly_means_corrs)\n",
    "plot_correlation_distribution(steam_weekly_dh_corrs)"
   ]
  },
  {
   "cell_type": "markdown",
   "metadata": {},
   "source": [
    "## 2.4 Compare strength of different correlators"
   ]
  },
  {
   "cell_type": "code",
   "execution_count": null,
   "metadata": {},
   "outputs": [],
   "source": [
    "def compare_distributions(df_dict, variable_name_dict, title):\n",
    "    for df_name, df in df_dict.items():\n",
    "        sns.distplot(list(df[variable_name_dict[df_name]].dropna()), label=df_name)\n",
    "    plt.title(title)\n",
    "    plt.legend()\n",
    "    plt.show()\n"
   ]
  },
  {
   "cell_type": "code",
   "execution_count": null,
   "metadata": {
    "scrolled": false
   },
   "outputs": [],
   "source": [
    "variable_name_dict = {'weekly_mean_air_temp':'air_temperature',\n",
    "                      'weekly_degree_hours':'delta_temp',\n",
    "                      'hourly_air_temp':'air_temperature'}\n",
    "\n",
    "compare_distributions({'weekly_mean_air_temp':elec_weekly_means_corrs, \n",
    "                      'weekly_degree_hours':elec_weekly_dh_corrs,\n",
    "                      'hourly_air_temp':elec_correlations},\n",
    "                      variable_name_dict,\n",
    "                     'elec')\n",
    "\n",
    "compare_distributions({'weekly_mean_air_temp':chilledwater_weekly_means_corrs,\n",
    "                      'weekly_degree_hours':chilledwater_weekly_dh_corrs,\n",
    "                      'hourly_air_temp':chilledwater_correlations},\n",
    "                     variable_name_dict, 'chilledwater')\n",
    "\n",
    "compare_distributions({'weekly_mean_air_temp':hotwater_weekly_means_corrs,\n",
    "                      'weekly_degree_hours':hotwater_weekly_dh_corrs,\n",
    "                      'hourly_air_temp':hotwater_correlations},\n",
    "                     variable_name_dict, 'hotwater')\n",
    "\n",
    "compare_distributions({'weekly_mean_air_temp':steam_weekly_means_corrs,\n",
    "                      'weekly_degree_hours':steam_weekly_dh_corrs,\n",
    "                      'hourly_air_temp':steam_correlations},\n",
    "                     variable_name_dict,\n",
    "                     'steam')"
   ]
  },
  {
   "cell_type": "markdown",
   "metadata": {},
   "source": [
    "# 3. Linear regression model based on air temperature only"
   ]
  },
  {
   "cell_type": "markdown",
   "metadata": {},
   "source": [
    "Assume that form of equation is meter_reading = A.T(t) + B + f(t) where B = A.T_setpoint. <br>"
   ]
  },
  {
   "cell_type": "code",
   "execution_count": null,
   "metadata": {},
   "outputs": [],
   "source": [
    "def fit_linear_regression_to_air_temp_data(df):\n",
    "    \n",
    "    building_ids = list(set(df.index.get_level_values('building_id')))\n",
    "    df_results = pd.DataFrame(index=building_ids, columns = ['r_sq', 'intercept', 'temp_coef', 'set_point_temp'])\n",
    "    df_results.index.rename('building_id', inplace=True)\n",
    "    \n",
    "    for building_id in building_ids:\n",
    "        building_df = df.loc[building_id]\n",
    "        y=building_df['meter_reading'].to_numpy()\n",
    "        x=building_df['air_temperature'].to_numpy().reshape(-1, 1)\n",
    "        imp_mean = SimpleImputer(missing_values=np.nan, strategy='mean')\n",
    "        x=imp_mean.fit_transform(x)\n",
    "        model=LinearRegression(n_jobs=-1).fit(x,y)\n",
    "        r_sq = model.score(x, y)\n",
    "        df_results.loc[building_id, 'r_sq'] = r_sq\n",
    "        df_results.loc[building_id, 'intercept'] = model.intercept_\n",
    "        df_results.loc[building_id, 'temp_coef'] = model.coef_[0]\n",
    "        df_results.loc[building_id, 'set_point_temp'] = -model.intercept_/model.coef_[0]\n",
    "        \n",
    "    for col in list(df_results):\n",
    "        df_results[col] = pd.to_numeric(df_results[col])\n",
    "        \n",
    "    return df_results"
   ]
  },
  {
   "cell_type": "code",
   "execution_count": null,
   "metadata": {},
   "outputs": [],
   "source": [
    "#alternative where you throw away weeks that have 0 average meter reading for that week - save that week number"
   ]
  },
  {
   "cell_type": "code",
   "execution_count": null,
   "metadata": {},
   "outputs": [],
   "source": []
  },
  {
   "cell_type": "markdown",
   "metadata": {},
   "source": [
    "## 3.1 Air temperature - weekly averages\n",
    "\n",
    "Integrate out the time dependancy by looking at entire weeks"
   ]
  },
  {
   "cell_type": "markdown",
   "metadata": {},
   "source": [
    "Start by just fitting a from weekly_meter_reading = A.T_mean + B"
   ]
  },
  {
   "cell_type": "code",
   "execution_count": null,
   "metadata": {},
   "outputs": [],
   "source": [
    "building_df = steam_weekly_means_df.loc[745]\n",
    "y=building_df['meter_reading'].to_numpy()\n",
    "x=building_df['air_temperature'].to_numpy()\n",
    "plt.xlabel('air temp')\n",
    "plt.ylabel('meter reading')\n",
    "plt.scatter(x,y)\n",
    "plt.show()"
   ]
  },
  {
   "cell_type": "code",
   "execution_count": null,
   "metadata": {},
   "outputs": [],
   "source": [
    "building_df = steam_weekly_means_df.loc[1442]\n",
    "y=building_df['meter_reading'].to_numpy()\n",
    "x=building_df['air_temperature'].to_numpy()\n",
    "plt.xlabel('air temp')\n",
    "plt.ylabel('meter reading')\n",
    "plt.scatter(x,y)\n",
    "plt.show()"
   ]
  },
  {
   "cell_type": "markdown",
   "metadata": {},
   "source": [
    "### 3.1.1 Fit model"
   ]
  },
  {
   "cell_type": "code",
   "execution_count": null,
   "metadata": {},
   "outputs": [],
   "source": [
    "df_steam_weekly_results = fit_linear_regression_to_air_temp_data(steam_weekly_means_df)\n",
    "df_chilledwater_weekly_results = fit_linear_regression_to_air_temp_data(chilledwater_weekly_means_df)\n",
    "df_hotwater_weekly_results = fit_linear_regression_to_air_temp_data(hotwater_weekly_means_df)\n",
    "df_elec_weekly_results = fit_linear_regression_to_air_temp_data(elec_weekly_means_df) "
   ]
  },
  {
   "cell_type": "code",
   "execution_count": null,
   "metadata": {},
   "outputs": [],
   "source": [
    "#stick them all together for use later\n",
    "df_elec_weekly_results['meter'] = 0\n",
    "df_chilledwater_weekly_results['meter'] = 1\n",
    "df_steam_weekly_results['meter'] = 2\n",
    "df_hotwater_weekly_results['meter'] = 3\n",
    "\n",
    "\n",
    "df_weekly_results = pd.concat([df_elec_weekly_results, df_chilledwater_weekly_results,\n",
    "           df_hotwater_weekly_results, df_steam_weekly_results])"
   ]
  },
  {
   "cell_type": "code",
   "execution_count": null,
   "metadata": {},
   "outputs": [],
   "source": [
    "METERS_NUMBER_NAME = {0: 'elec', 1: 'chilledwater', 2: 'steam', 3: 'hotwater'}\n",
    "def compare_variables_in_df_between_meters(df, variables, meters_number_name = METERS_NUMBER_NAME):\n",
    "    for variable in variables:\n",
    "        variable_name_dict = {}\n",
    "        df_dict = {}\n",
    "        for meter_no, meter_name in meters_number_name.items():\n",
    "            variable_name_dict[meter_name] = variable\n",
    "            df_dict[meter_name] = df[df.meter == meter_no]\n",
    "        #print(variable_name_dict)\n",
    "        #print(df_dict)\n",
    "        compare_distributions(df_dict, variable_name_dict, variable)"
   ]
  },
  {
   "cell_type": "code",
   "execution_count": null,
   "metadata": {},
   "outputs": [],
   "source": [
    "compare_variables_in_df_between_meters(df_weekly_results, ['r_sq', 'temp_coef', 'set_point_temp'])"
   ]
  },
  {
   "cell_type": "code",
   "execution_count": null,
   "metadata": {},
   "outputs": [],
   "source": [
    "# so there are some very non-physical results for temp coef and set point temp in the steam data set\n",
    "#and the ? elec? dataset.Plot seperately to be sure which datasets have odd results"
   ]
  },
  {
   "cell_type": "code",
   "execution_count": null,
   "metadata": {},
   "outputs": [],
   "source": [
    "compare_variables_in_df_between_meters(df_weekly_results, ['r_sq', 'temp_coef', 'set_point_temp'],\n",
    "                                      meters_number_name={0: 'elec'})"
   ]
  },
  {
   "cell_type": "code",
   "execution_count": null,
   "metadata": {},
   "outputs": [],
   "source": [
    "compare_variables_in_df_between_meters(df_weekly_results, ['r_sq', 'temp_coef', 'set_point_temp'],\n",
    "                                      meters_number_name={1: 'chilledwater'})"
   ]
  },
  {
   "cell_type": "code",
   "execution_count": null,
   "metadata": {},
   "outputs": [],
   "source": [
    "compare_variables_in_df_between_meters(df_weekly_results, ['r_sq', 'temp_coef', 'set_point_temp'],\n",
    "                                      meters_number_name={1: 'hotwater'})"
   ]
  },
  {
   "cell_type": "code",
   "execution_count": null,
   "metadata": {},
   "outputs": [],
   "source": [
    "compare_variables_in_df_between_meters(df_weekly_results, ['r_sq', 'temp_coef', 'set_point_temp'],\n",
    "                                      meters_number_name={2: 'steam'})"
   ]
  },
  {
   "cell_type": "code",
   "execution_count": null,
   "metadata": {},
   "outputs": [],
   "source": [
    "for meter_no, meter_name in METERS_NUMBER_NAME.items():\n",
    "    df_to_plot = df_weekly_results[df_weekly_results.meter == meter_no]\n",
    "    plt.scatter(df_to_plot.index, df_to_plot.temp_coef)\n",
    "    plt.title(meter_name + \" temp coeff\")\n",
    "    plt.show()\n",
    "    plt.scatter(df_to_plot.index, df_to_plot.set_point_temp)\n",
    "    plt.title(meter_name + \" set point temp\")\n",
    "    plt.show()\n",
    "    "
   ]
  },
  {
   "cell_type": "code",
   "execution_count": null,
   "metadata": {},
   "outputs": [],
   "source": [
    "# All have some very unphysical values in there. Leave for now but maybe address later"
   ]
  },
  {
   "cell_type": "code",
   "execution_count": null,
   "metadata": {},
   "outputs": [],
   "source": [
    "chilledwater_weekly_means_df[chilledwater_weekly_means_df.meter_reading < 1]"
   ]
  },
  {
   "cell_type": "code",
   "execution_count": null,
   "metadata": {},
   "outputs": [],
   "source": [
    "elec_weekly_means_df[elec_weekly_means_df.meter_reading < 1]"
   ]
  },
  {
   "cell_type": "code",
   "execution_count": null,
   "metadata": {},
   "outputs": [],
   "source": [
    "buildings_no_elec_week = set(elec_weekly_means_df.building_id[elec_weekly_means_df.meter_reading < 1])"
   ]
  },
  {
   "cell_type": "code",
   "execution_count": null,
   "metadata": {},
   "outputs": [],
   "source": [
    "steam_weekly_means_df[steam_weekly_means_df.meter_reading < 1]"
   ]
  },
  {
   "cell_type": "code",
   "execution_count": null,
   "metadata": {},
   "outputs": [],
   "source": [
    "hotwater_weekly_means_df[hotwater_weekly_means_df.meter_reading < 1]"
   ]
  },
  {
   "cell_type": "code",
   "execution_count": null,
   "metadata": {},
   "outputs": [],
   "source": [
    "hotwater_weekly_means_df"
   ]
  },
  {
   "cell_type": "code",
   "execution_count": null,
   "metadata": {},
   "outputs": [],
   "source": []
  },
  {
   "cell_type": "markdown",
   "metadata": {},
   "source": [
    "### 3.1.2 Compare R squared values from weekly averages between building primary uses"
   ]
  },
  {
   "cell_type": "code",
   "execution_count": null,
   "metadata": {},
   "outputs": [],
   "source": [
    "#add data on building primary use to explore impact\n",
    "df_elec_weekly_results_buildtype = df_elec_weekly_results.join(building['primary_use'])\n",
    "df_steam_weekly_results_buildtype = df_steam_weekly_results.join(building['primary_use'])\n",
    "df_chilledwater_weekly_results_buildtype = df_chilledwater_weekly_results.join(building['primary_use'])\n",
    "df_hotwater_weekly_results_buildtype = df_hotwater_weekly_results.join(building['primary_use'])"
   ]
  },
  {
   "cell_type": "code",
   "execution_count": null,
   "metadata": {},
   "outputs": [],
   "source": [
    "def compare_building_uses(df, building, variable, title):\n",
    "    for use in set(building['primary_use']):\n",
    "        sns.distplot(list(df[df['primary_use']==use][variable].dropna()), label=use)\n",
    "        plt.title(title)\n",
    "        # Put the legend out of the figure\n",
    "        plt.legend(bbox_to_anchor=(1.05, 1), loc=2, borderaxespad=0.)\n",
    "    plt.show()"
   ]
  },
  {
   "cell_type": "code",
   "execution_count": null,
   "metadata": {},
   "outputs": [],
   "source": [
    "compare_building_uses(df_elec_weekly_results_buildtype, building, 'r_sq',\n",
    "                      \"Electric meter - comparison of Rsq between building types\")\n",
    "compare_building_uses(df_chilledwater_weekly_results_buildtype, building,'r_sq',\n",
    "                      \"Chilled Water meter - comparison of Rsq between building types\")\n",
    "compare_building_uses(df_steam_weekly_results_buildtype, building, 'r_sq',\n",
    "                      \"Steam meter - comparison of Rsq between building types\")\n",
    "compare_building_uses(df_hotwater_weekly_results_buildtype, building,'r_sq',\n",
    "                      \"Hot water meter - comparison of R-sq between building types\")"
   ]
  },
  {
   "cell_type": "code",
   "execution_count": null,
   "metadata": {},
   "outputs": [],
   "source": [
    "del df_elec_weekly_results_buildtype, df_steam_weekly_results_buildtype\n",
    "del df_chilledwater_weekly_results_buildtype\n",
    "del df_hotwater_weekly_results_buildtype "
   ]
  },
  {
   "cell_type": "markdown",
   "metadata": {},
   "source": [
    "### 3.1.3 Apply coefficients to hourly dataset"
   ]
  },
  {
   "cell_type": "code",
   "execution_count": null,
   "metadata": {},
   "outputs": [],
   "source": [
    "def add_temp_based_predictions(df, df_lin_reg_results):\n",
    "    \n",
    "    df = df.reset_index()\n",
    "    df_lin_reg_results = df_lin_reg_results[['r_sq', 'temp_coef', 'intercept',\n",
    "                                             'set_point_temp', 'meter']].reset_index()\n",
    "    df = df.merge(df_lin_reg_results, how='left', on=['building_id', 'meter'])\n",
    "    df = df.set_index(['building_id', 'timestamp'])\n",
    "    \n",
    "    df['temp_based_prediction'] = df['temp_coef'] * df['air_temperature'] + df['intercept']\n",
    "    \n",
    "    # remove sub-zero predictions\n",
    "    df['temp_based_prediction'].loc[:,df['temp_based_prediction'] < 0] = 0\n",
    "    \n",
    "    if 'meter_reading' in df.columns:\n",
    "        df['residual'] = df['meter_reading'] - df['temp_based_prediction']\n",
    "        df['squared_log_error'] = (np.log(df['temp_based_prediction'] + 1) - np.log(df['meter_reading'] + 1))**2\n",
    "    return df"
   ]
  },
  {
   "cell_type": "code",
   "execution_count": null,
   "metadata": {},
   "outputs": [],
   "source": [
    "elec_train_weekly_temp_preds = add_temp_based_predictions(elec_train, df_elec_weekly_results)\n",
    "chilledwater_train_weekly_temp_preds = add_temp_based_predictions(chilledwater_train,\n",
    "                                                                  df_chilledwater_weekly_results)\n",
    "hotwater_train_weekly_temp_preds = add_temp_based_predictions(hotwater_train, df_hotwater_weekly_results)\n",
    "steam_train_weekly_temp_preds = add_temp_based_predictions(steam_train, df_steam_weekly_results)"
   ]
  },
  {
   "cell_type": "code",
   "execution_count": null,
   "metadata": {},
   "outputs": [],
   "source": [
    "hotwater_train_weekly_temp_preds"
   ]
  },
  {
   "cell_type": "code",
   "execution_count": null,
   "metadata": {},
   "outputs": [],
   "source": [
    "hotwater_train_weekly_temp_preds.loc[1331,'meter_reading'].plot()"
   ]
  },
  {
   "cell_type": "code",
   "execution_count": null,
   "metadata": {},
   "outputs": [],
   "source": [
    "hotwater_train_weekly_temp_preds.loc[1331,'temp_based_prediction'].plot()"
   ]
  },
  {
   "cell_type": "code",
   "execution_count": null,
   "metadata": {},
   "outputs": [],
   "source": [
    "hotwater_train_weekly_temp_preds.loc[106,'meter_reading'].plot()"
   ]
  },
  {
   "cell_type": "code",
   "execution_count": null,
   "metadata": {},
   "outputs": [],
   "source": [
    "hotwater_train_weekly_temp_preds.loc[106,'temp_based_prediction'].plot()"
   ]
  },
  {
   "cell_type": "markdown",
   "metadata": {},
   "source": [
    "Heating gets turned off in the summer. This impact is making the linear fit insufficiently sensitive to temperature for the rest of the year. Try to account for this before doing linear fit? TODO"
   ]
  },
  {
   "cell_type": "code",
   "execution_count": null,
   "metadata": {},
   "outputs": [],
   "source": [
    "# look for weeks with zero values\n"
   ]
  },
  {
   "cell_type": "code",
   "execution_count": null,
   "metadata": {},
   "outputs": [],
   "source": [
    "def plot_timeseries(df, variable, building_id, timestamp_start=None, timestamp_end=None, title=\"\"):\n",
    "    \n",
    "    df = df.loc[building_id]\n",
    "    y2=df.loc[slice(timestamp_start, timestamp_end),variable].to_numpy()\n",
    "    x2=df.loc[slice(timestamp_start, timestamp_end)].index.get_level_values('timestamp').to_numpy()\n",
    "    plt.xlabel('timestamp')\n",
    "    plt.ylabel(variable)\n",
    "    plt.scatter(x2,y2)\n",
    "    plt.title(title)\n",
    "    plt.show()\n",
    "    "
   ]
  },
  {
   "cell_type": "code",
   "execution_count": null,
   "metadata": {
    "scrolled": true
   },
   "outputs": [],
   "source": [
    "# plot the squared_log_error for a few dfs\n",
    "plot_timeseries(elec_train_weekly_temp_preds, 'squared_log_error', 745, title='elec')\n",
    "plot_timeseries(chilledwater_train_weekly_temp_preds, 'squared_log_error', 745, title='chilled water')\n",
    "plot_timeseries(hotwater_train_weekly_temp_preds, 'squared_log_error', 106, title='hotwater')\n",
    "plot_timeseries(steam_train_weekly_temp_preds, 'squared_log_error', 745, title='steam')\n",
    "\n",
    "plot_timeseries(steam_train_weekly_temp_preds, 'squared_log_error', 1442, title='steam - building 1442')   \n",
    "plot_timeseries(steam_train_weekly_temp_preds, 'squared_log_error', 1442, title='steam - building 1442 zoomed in',\n",
    "                timestamp_start='2016-01-01 00:00:00',\n",
    "                timestamp_end='2016-01-03 00:00:00') # not working nicely...\n"
   ]
  },
  {
   "cell_type": "code",
   "execution_count": null,
   "metadata": {},
   "outputs": [],
   "source": [
    "#suprisingly - elec data looks the best in many ways. How can this be when temp a poor correlator?\n",
    "#hot water increases in the summer and decreases in the winter - add cut off temp?\n",
    "# perhaps just because some very odd/erroneous values in the other datasets? Maybe the 0 values?"
   ]
  },
  {
   "cell_type": "code",
   "execution_count": null,
   "metadata": {},
   "outputs": [],
   "source": [
    "#plot the distribution of the log squared errors\n",
    "def compare_distributions(df_dict, variable_name_dict, title):\n",
    "    for df_name, df in df_dict.items():\n",
    "        sns.distplot(list(df[variable_name_dict[df_name]].dropna()), label=df_name)\n",
    "    plt.title(title)\n",
    "    plt.legend()\n",
    "    plt.show()\n",
    "    \n",
    "variable_name_dict = {'elec': 'squared_log_error',\n",
    "                      'chilledwater':'squared_log_error',\n",
    "                      'hotwater':'squared_log_error', \n",
    "                      'steam':'squared_log_error'}\n",
    "\n",
    "df_dict_compare_errors = {'elec': elec_train_weekly_temp_preds,\n",
    "                             'chilledwater': chilledwater_train_weekly_temp_preds,\n",
    "                             'hotwater':hotwater_train_weekly_temp_preds,\n",
    "                             'steam': steam_train_weekly_temp_preds}\n",
    "\n",
    "compare_distributions(df_dict_compare_errors ,\n",
    "                      variable_name_dict,\n",
    "                     'Comparing residual/actual for electricity, chilled water, hotwater and steam')    "
   ]
  },
  {
   "cell_type": "code",
   "execution_count": null,
   "metadata": {},
   "outputs": [],
   "source": [
    "#some issues with huge erros in the steam and chilled water datasets - need to find them"
   ]
  },
  {
   "cell_type": "code",
   "execution_count": null,
   "metadata": {},
   "outputs": [],
   "source": [
    "steam_train_weekly_temp_preds"
   ]
  },
  {
   "cell_type": "markdown",
   "metadata": {},
   "source": [
    "### 3.1.4 Evaluate performance of simple linear regression based on weekly averages"
   ]
  },
  {
   "cell_type": "code",
   "execution_count": null,
   "metadata": {},
   "outputs": [],
   "source": [
    "def extract_predictions(df, column_header):\n",
    "    predictions = df[column_header].to_numpy()\n",
    "    predictions[predictions < 0] = 0\n",
    "    return predictions"
   ]
  },
  {
   "cell_type": "code",
   "execution_count": null,
   "metadata": {},
   "outputs": [],
   "source": [
    "#elec\n",
    "elec_predictions = extract_predictions(elec_train_weekly_temp_preds,'temp_based_prediction')\n",
    "elec_actuals = elec_train_weekly_temp_preds['meter_reading'].to_numpy()\n",
    "calculate_RMSLE_score(elec_predictions, elec_actuals)"
   ]
  },
  {
   "cell_type": "code",
   "execution_count": null,
   "metadata": {},
   "outputs": [],
   "source": [
    "#chilledwater\n",
    "chilledwater_predictions = extract_predictions(chilledwater_train_weekly_temp_preds,'temp_based_prediction')\n",
    "chilledwater_actuals = chilledwater_train_weekly_temp_preds['meter_reading'].to_numpy()\n",
    "calculate_RMSLE_score(chilledwater_predictions, chilledwater_actuals)"
   ]
  },
  {
   "cell_type": "code",
   "execution_count": null,
   "metadata": {},
   "outputs": [],
   "source": [
    "#hotwater\n",
    "hotwater_predictions = extract_predictions(hotwater_train_weekly_temp_preds,'temp_based_prediction')\n",
    "hotwater_actuals = hotwater_train_weekly_temp_preds['meter_reading'].to_numpy()\n",
    "calculate_RMSLE_score(hotwater_predictions, hotwater_actuals)"
   ]
  },
  {
   "cell_type": "code",
   "execution_count": null,
   "metadata": {},
   "outputs": [],
   "source": [
    "#steam\n",
    "steam_predictions = extract_predictions(steam_train_weekly_temp_preds,'temp_based_prediction')\n",
    "steam_actuals = steam_train_weekly_temp_preds['meter_reading'].to_numpy()\n",
    "calculate_RMSLE_score(steam_predictions, steam_actuals)"
   ]
  },
  {
   "cell_type": "code",
   "execution_count": null,
   "metadata": {},
   "outputs": [],
   "source": [
    "# all together\n",
    "predictions = np.concatenate([elec_predictions, chilledwater_predictions,hotwater_predictions, steam_predictions])\n",
    "actuals = np.concatenate([elec_actuals, chilledwater_actuals,hotwater_actuals, steam_actuals])\n",
    "calculate_RMSLE_score(predictions, actuals)"
   ]
  },
  {
   "cell_type": "markdown",
   "metadata": {},
   "source": [
    "### 3.1.5 Produce a set of predictions on the test set based on this weekly average temperature model"
   ]
  },
  {
   "cell_type": "code",
   "execution_count": null,
   "metadata": {},
   "outputs": [],
   "source": [
    "def add_weather_variables_to_test_df(test, building, weather, weather_variables):\n",
    "    \n",
    "    # add site id to test data\n",
    "    building_site_id = building[['site_id','building_id']].set_index('building_id').to_dict()['site_id']\n",
    "    test_with_site_id = test.copy()\n",
    "    test_with_site_id['site_id'] = test_with_site_id['building_id'].map(building_site_id )\n",
    "    \n",
    "    # add required weather variables to test data\n",
    "    required_weather = weather[['site_id', 'timestamp'] + weather_variables]\n",
    "    all_df = test_with_site_id.merge(required_weather, on = ['site_id', 'timestamp'], how='left')\n",
    "    \n",
    "    #multi index on building id and timestamp to match previous format\n",
    "    all_df = all_df.set_index(['building_id', 'timestamp']).sort_index()\n",
    "    \n",
    "    return all_df"
   ]
  },
  {
   "cell_type": "code",
   "execution_count": null,
   "metadata": {},
   "outputs": [],
   "source": [
    "test_with_air_temp = add_weather_variables_to_test_df(test, building, weather_test, ['air_temperature'])"
   ]
  },
  {
   "cell_type": "code",
   "execution_count": null,
   "metadata": {},
   "outputs": [],
   "source": [
    "# very slow\n",
    "test_weekly_temp_preds = add_temp_based_predictions(test_with_air_temp, df_weekly_results)"
   ]
  },
  {
   "cell_type": "code",
   "execution_count": null,
   "metadata": {},
   "outputs": [],
   "source": [
    "test_with_air_temp"
   ]
  },
  {
   "cell_type": "code",
   "execution_count": null,
   "metadata": {},
   "outputs": [],
   "source": [
    "test_weekly_temp_preds"
   ]
  },
  {
   "cell_type": "code",
   "execution_count": null,
   "metadata": {},
   "outputs": [],
   "source": [
    "predictions = test_weekly_temp_preds[['row_id', 'temp_based_prediction']].copy()\n",
    "predictions = predictions.reset_index()[['row_id', 'temp_based_prediction']]\n",
    "predictions = predictions.set_index('row_id')\n",
    "predictions = predictions.rename(columns = {'temp_based_prediction':'meter_reading'})\n",
    "predictions = predictions.sort_index(0)"
   ]
  },
  {
   "cell_type": "code",
   "execution_count": null,
   "metadata": {},
   "outputs": [],
   "source": [
    "predictions"
   ]
  },
  {
   "cell_type": "code",
   "execution_count": null,
   "metadata": {},
   "outputs": [],
   "source": [
    "#predictions.to_csv('weekly_temp_means_submission.csv')"
   ]
  },
  {
   "cell_type": "code",
   "execution_count": null,
   "metadata": {},
   "outputs": [],
   "source": [
    "len(predictions)"
   ]
  },
  {
   "cell_type": "markdown",
   "metadata": {},
   "source": [
    "### 3.1.6 Look at what correlates with the residuals"
   ]
  },
  {
   "cell_type": "code",
   "execution_count": null,
   "metadata": {},
   "outputs": [],
   "source": [
    "elec_residuals_corr = produce_correlation_df(elec_train_weekly_temp_preds, y_variable='residual')\n",
    "hotwater_residuals_corr = produce_correlation_df(hotwater_train_weekly_temp_preds, y_variable='residual')\n",
    "chilledwater_residuals_corr = produce_correlation_df(chilledwater_train_weekly_temp_preds, y_variable='residual')\n",
    "steam_residuals_corr = produce_correlation_df(steam_train_weekly_temp_preds, y_variable='residual')"
   ]
  },
  {
   "cell_type": "code",
   "execution_count": null,
   "metadata": {},
   "outputs": [],
   "source": [
    "explore_correlations(elec_residuals_corr)"
   ]
  },
  {
   "cell_type": "code",
   "execution_count": null,
   "metadata": {},
   "outputs": [],
   "source": [
    "explore_correlations(chilledwater_residuals_corr)"
   ]
  },
  {
   "cell_type": "code",
   "execution_count": null,
   "metadata": {},
   "outputs": [],
   "source": [
    "explore_correlations(hotwater_residuals_corr)"
   ]
  },
  {
   "cell_type": "code",
   "execution_count": null,
   "metadata": {},
   "outputs": [],
   "source": [
    "explore_correlations(steam_residuals_corr)"
   ]
  },
  {
   "cell_type": "code",
   "execution_count": null,
   "metadata": {},
   "outputs": [],
   "source": [
    "# Hmm - why is there any signal left in air temp? I suppose the temperature dependance is not independant of time.\n",
    "# Perhaps because the set point temperature changes with time\n",
    "# Time seems important. As a dump option, try and just add the whole residual back onto the test set?\n"
   ]
  },
  {
   "cell_type": "markdown",
   "metadata": {},
   "source": [
    "### 3.1.7 Add residuals back in to temp based predictions \n",
    "\n",
    "This will obviously give perfect results here but worth a submission attempt in case it works well\n",
    "Won't deal with the variation in set point temperature well but should do an ok job with the other time dependance"
   ]
  },
  {
   "cell_type": "code",
   "execution_count": null,
   "metadata": {},
   "outputs": [],
   "source": [
    "elec_resids = elec_train_weekly_temp_preds[['meter', 'residual']]\n",
    "hotwater_resids = hotwater_train_weekly_temp_preds[['meter', 'residual']]\n",
    "steam_resids = steam_train_weekly_temp_preds[['meter', 'residual']]\n",
    "chilledwater_resids = chilledwater_train_weekly_temp_preds[['meter', 'residual']]"
   ]
  },
  {
   "cell_type": "code",
   "execution_count": null,
   "metadata": {},
   "outputs": [],
   "source": [
    "all_resids = elec_resids.append([hotwater_resids, steam_resids, chilledwater_resids ])"
   ]
  },
  {
   "cell_type": "code",
   "execution_count": null,
   "metadata": {},
   "outputs": [],
   "source": [
    "all_resids"
   ]
  },
  {
   "cell_type": "code",
   "execution_count": null,
   "metadata": {},
   "outputs": [],
   "source": []
  },
  {
   "cell_type": "code",
   "execution_count": null,
   "metadata": {},
   "outputs": [],
   "source": [
    "test_weekly_temp_preds"
   ]
  },
  {
   "cell_type": "code",
   "execution_count": null,
   "metadata": {},
   "outputs": [],
   "source": []
  },
  {
   "cell_type": "markdown",
   "metadata": {},
   "source": [
    "## 3.2 Air temperaure - hourly data"
   ]
  },
  {
   "cell_type": "code",
   "execution_count": null,
   "metadata": {},
   "outputs": [],
   "source": []
  },
  {
   "cell_type": "markdown",
   "metadata": {},
   "source": [
    "### 3.2.1 Fit to hourly data"
   ]
  },
  {
   "cell_type": "code",
   "execution_count": null,
   "metadata": {},
   "outputs": [],
   "source": [
    "df_steam_hourly_results = fit_linear_regression_to_air_temp_data(steam_train)\n",
    "df_chilledwater_hourly_results = fit_linear_regression_to_air_temp_data(chilledwater_train)\n",
    "df_hotwater_hourly_results = fit_linear_regression_to_air_temp_data(hotwater_train)\n",
    "df_elec_hourly_results = fit_linear_regression_to_air_temp_data(elec_train) "
   ]
  },
  {
   "cell_type": "code",
   "execution_count": null,
   "metadata": {},
   "outputs": [],
   "source": [
    "#add meter numbers (this is kinda silly - should just keep them in earlier)\n",
    "df_elec_hourly_results['meter'] = 0\n",
    "df_chilledwater_hourly_results['meter'] = 1\n",
    "df_steam_hourly_results['meter'] = 2\n",
    "df_hotwater_hourly_results['meter'] = 3"
   ]
  },
  {
   "cell_type": "code",
   "execution_count": null,
   "metadata": {},
   "outputs": [],
   "source": [
    "variable_name_dict = {'steam':'r_sq',\n",
    "                      'hotwater':'r_sq',\n",
    "                      'chilledwater':'r_sq',\n",
    "                      'elec':'r_sq'}\n",
    "\n",
    "compare_distributions({'steam':df_steam_weekly_results,\n",
    "                      'hotwater': df_hotwater_weekly_results,\n",
    "                      'chilledwater':df_chilledwater_weekly_results,\n",
    "                      'elec': df_elec_weekly_results},\n",
    "                      variable_name_dict,\n",
    "                      'r_sq - based on weekly means')\n",
    "\n",
    "compare_distributions({'steam':df_steam_hourly_results,\n",
    "                      'hotwater': df_hotwater_hourly_results,\n",
    "                      'chilledwater':df_chilledwater_hourly_results,\n",
    "                      'elec': df_elec_hourly_results},\n",
    "                      variable_name_dict,\n",
    "                      'r_sq - based on hourly data')"
   ]
  },
  {
   "cell_type": "markdown",
   "metadata": {},
   "source": [
    "### 3.2.3 Evaluate performance of simple linear regression based on hourly temp data"
   ]
  },
  {
   "cell_type": "code",
   "execution_count": null,
   "metadata": {},
   "outputs": [],
   "source": [
    "elec_train_hourly_temp_preds = add_temp_based_predictions(elec_train, df_elec_hourly_results)\n",
    "chilledwater_train_hourly_temp_preds = add_temp_based_predictions(chilledwater_train,\n",
    "                                                                  df_chilledwater_hourly_results)\n",
    "hotwater_train_hourly_temp_preds = add_temp_based_predictions(hotwater_train, df_hotwater_hourly_results)\n",
    "steam_train_hourly_temp_preds = add_temp_based_predictions(steam_train, df_steam_hourly_results)"
   ]
  },
  {
   "cell_type": "code",
   "execution_count": null,
   "metadata": {},
   "outputs": [],
   "source": [
    "elec_predictions = extract_predictions(elec_train_hourly_temp_preds,'temp_based_prediction')\n",
    "elec_actuals = elec_train_hourly_temp_preds['meter_reading'].to_numpy()\n",
    "calculate_RMSLE_score(elec_predictions, elec_actuals)"
   ]
  },
  {
   "cell_type": "code",
   "execution_count": null,
   "metadata": {},
   "outputs": [],
   "source": [
    "chilledwater_predictions = extract_predictions(chilledwater_train_hourly_temp_preds,'temp_based_prediction')\n",
    "chilledwater_actuals = chilledwater_train_hourly_temp_preds['meter_reading'].to_numpy()\n",
    "calculate_RMSLE_score(chilledwater_predictions, chilledwater_actuals)"
   ]
  },
  {
   "cell_type": "code",
   "execution_count": null,
   "metadata": {},
   "outputs": [],
   "source": [
    "hotwater_predictions = extract_predictions(hotwater_train_hourly_temp_preds,'temp_based_prediction')\n",
    "hotwater_actuals = hotwater_train_hourly_temp_preds['meter_reading'].to_numpy()\n",
    "calculate_RMSLE_score(hotwater_predictions, hotwater_actuals)"
   ]
  },
  {
   "cell_type": "code",
   "execution_count": null,
   "metadata": {},
   "outputs": [],
   "source": [
    "steam_predictions = extract_predictions(steam_train_hourly_temp_preds,'temp_based_prediction')\n",
    "steam_actuals = steam_train_hourly_temp_preds['meter_reading'].to_numpy()\n",
    "calculate_RMSLE_score(steam_predictions, steam_actuals)"
   ]
  },
  {
   "cell_type": "code",
   "execution_count": null,
   "metadata": {},
   "outputs": [],
   "source": [
    "# all together\n",
    "predictions = np.concatenate([elec_predictions, chilledwater_predictions,hotwater_predictions, steam_predictions])\n",
    "actuals = np.concatenate([elec_actuals, chilledwater_actuals,hotwater_actuals, steam_actuals])\n",
    "calculate_RMSLE_score(predictions, actuals)"
   ]
  },
  {
   "cell_type": "code",
   "execution_count": null,
   "metadata": {},
   "outputs": [],
   "source": [
    "# so the hourly model actually does better. Perhaps because it intrinsically deals with some time dependance?"
   ]
  },
  {
   "cell_type": "markdown",
   "metadata": {},
   "source": [
    "# Learnings\n",
    "\n",
    "- Weather data is for 1 year - 2016\n",
    "- Their are 16 sites we have weather data for\n",
    "- Temperature data is good - no missing values. Other weather data less so. \n",
    "- Weather data and meter data is missing some hours of the year. Meter data has all hours that weather data has\n",
    "- No clear pattern to where data is missing\n",
    "<br/>\n",
    "\n",
    "- There can be multiple meters per building\n",
    "- We need to learn seperate models for each meter. It may be hard to generalise learnings for the same building. \n",
    "- We need to predict meter readings hourly\n",
    "<br/>\n",
    "\n",
    "- Weekly mean air temperature strongly and consistently correlates with mean meter reading for all meaters apart from electricity \n",
    "- Weekly degree hours also strongly correlation with total weekly consumption - but relationship is slightly less good than for averages. Could be because of the changing balance point\n",
    "- Other weather data not particularly important - so start with temperature\n",
    "- Time dependance not really explored yet - instead learning attibutes about temperature dependance based on weekly data and then using those for hourly data\n",
    "- The strength of temperature as a predictor varies between building types - It is strongest for office buildings and lodging/residential. Education buildings have much bigger drop offs in the summer than you would expect based on temperature alone - presumeably because they are not used\n",
    "\n",
    "# To Explore\n",
    "\n",
    "- make a meter object...?\n",
    "- some part of meter reading should correlate with temperature - what about summing all of the meter readings together and seeing then seperating out use? Issue is that we don't know if they are in the same unit\n",
    "- change timestamp data to local time\n",
    "- Add residuals back in just based on building, meter and timestamp\n",
    "\n"
   ]
  },
  {
   "cell_type": "markdown",
   "metadata": {},
   "source": []
  },
  {
   "cell_type": "code",
   "execution_count": null,
   "metadata": {},
   "outputs": [],
   "source": []
  }
 ],
 "metadata": {
  "kernelspec": {
   "display_name": "ASHRAE",
   "language": "python",
   "name": "ashrae"
  },
  "language_info": {
   "codemirror_mode": {
    "name": "ipython",
    "version": 3
   },
   "file_extension": ".py",
   "mimetype": "text/x-python",
   "name": "python",
   "nbconvert_exporter": "python",
   "pygments_lexer": "ipython3",
   "version": "3.7.4"
  }
 },
 "nbformat": 4,
 "nbformat_minor": 2
}

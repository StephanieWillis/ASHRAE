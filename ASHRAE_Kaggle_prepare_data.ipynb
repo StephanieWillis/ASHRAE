{
 "cells": [
  {
   "cell_type": "code",
   "execution_count": 1,
   "metadata": {},
   "outputs": [],
   "source": [
    "import read_and_cache_data as rcd\n",
    "from IPython.display import display\n",
    "import ashrae_constants as const\n",
    "import explore_data as exp\n",
    "import pandas as pd\n",
    "import matplotlib.pyplot as plt"
   ]
  },
  {
   "cell_type": "markdown",
   "metadata": {},
   "source": [
    "# Import the raw data"
   ]
  },
  {
   "cell_type": "code",
   "execution_count": 2,
   "metadata": {},
   "outputs": [
    {
     "name": "stdout",
     "output_type": "stream",
     "text": [
      "Importing data from store_raw.h5\n",
      "NaNs for building_metadata\n"
     ]
    },
    {
     "data": {
      "text/plain": [
       "site_id           0\n",
       "building_id       0\n",
       "primary_use       0\n",
       "square_feet       0\n",
       "year_built      774\n",
       "floor_count    1094\n",
       "dtype: int64"
      ]
     },
     "metadata": {},
     "output_type": "display_data"
    },
    {
     "name": "stdout",
     "output_type": "stream",
     "text": [
      "NaNs for weather_train\n"
     ]
    },
    {
     "data": {
      "text/plain": [
       "site_id                   0\n",
       "timestamp                 0\n",
       "air_temperature          55\n",
       "cloud_coverage        69173\n",
       "dew_temperature         113\n",
       "precip_depth_1_hr     50289\n",
       "sea_level_pressure    10618\n",
       "wind_direction         6268\n",
       "wind_speed              304\n",
       "dtype: int64"
      ]
     },
     "metadata": {},
     "output_type": "display_data"
    },
    {
     "name": "stdout",
     "output_type": "stream",
     "text": [
      "NaNs for weather_test\n"
     ]
    },
    {
     "data": {
      "text/plain": [
       "site_id                    0\n",
       "timestamp                  0\n",
       "air_temperature          104\n",
       "cloud_coverage        140448\n",
       "dew_temperature          327\n",
       "precip_depth_1_hr      95588\n",
       "sea_level_pressure     21265\n",
       "wind_direction         12370\n",
       "wind_speed               460\n",
       "dtype: int64"
      ]
     },
     "metadata": {},
     "output_type": "display_data"
    },
    {
     "name": "stdout",
     "output_type": "stream",
     "text": [
      "NaNs for train\n"
     ]
    },
    {
     "data": {
      "text/plain": [
       "building_id      0\n",
       "meter            0\n",
       "timestamp        0\n",
       "meter_reading    0\n",
       "dtype: int64"
      ]
     },
     "metadata": {},
     "output_type": "display_data"
    },
    {
     "name": "stdout",
     "output_type": "stream",
     "text": [
      "NaNs for test\n"
     ]
    },
    {
     "data": {
      "text/plain": [
       "row_id         0\n",
       "building_id    0\n",
       "meter          0\n",
       "timestamp      0\n",
       "dtype: int64"
      ]
     },
     "metadata": {},
     "output_type": "display_data"
    }
   ],
   "source": [
    "raw_data = rcd.get_data('ashrae-energy-prediction', cache_file='store_raw.h5')\n",
    "rcd.print_nan_counts_all_dfs(raw_data)"
   ]
  },
  {
   "cell_type": "markdown",
   "metadata": {},
   "source": [
    "### Check for large values"
   ]
  },
  {
   "cell_type": "code",
   "execution_count": 3,
   "metadata": {},
   "outputs": [
    {
     "name": "stdout",
     "output_type": "stream",
     "text": [
      "There are 10 buildings with meter readings above 0M: {1088, 993, 1159, 778, 1099, 1197, 1168, 954, 60, 1021}\n",
      "There are 1 buildings with meter readings above 1M: {1099}\n",
      "There are 1 buildings with meter readings above 10M: {1099}\n"
     ]
    }
   ],
   "source": [
    "thresholds = [1_00_000, 1_000_000, 10_000_000]\n",
    "high_meter_buildings = exp.get_buildings_with_high_meter(raw_data['train'], thresholds)"
   ]
  },
  {
   "cell_type": "code",
   "execution_count": 4,
   "metadata": {},
   "outputs": [
    {
     "data": {
      "text/plain": [
       "{100000: {60, 778, 954, 993, 1021, 1088, 1099, 1159, 1168, 1197},\n",
       " 1000000: {1099},\n",
       " 10000000: {1099}}"
      ]
     },
     "execution_count": 4,
     "metadata": {},
     "output_type": "execute_result"
    }
   ],
   "source": [
    "high_meter_buildings"
   ]
  },
  {
   "cell_type": "code",
   "execution_count": 5,
   "metadata": {},
   "outputs": [
    {
     "name": "stderr",
     "output_type": "stream",
     "text": [
      "/anaconda3/envs/ASHRAE/lib/python3.7/site-packages/ipykernel_launcher.py:3: UserWarning: Boolean Series key will be reindexed to match DataFrame index.\n",
      "  This is separate from the ipykernel package so we can avoid doing imports until\n"
     ]
    },
    {
     "data": {
      "image/png": "[encoded data removed]",
      "text/plain": [
       "<Figure size 432x288 with 1 Axes>"
      ]
     },
     "metadata": {
      "needs_background": "light"
     },
     "output_type": "display_data"
    }
   ],
   "source": [
    "raw_train = raw_data['train']\n",
    "for b_id in high_meter_buildings[1000000]:\n",
    "    raw_data['train'][raw_train.building_id == b_id][raw_train.meter == 2].meter_reading.plot()\n",
    "    plt.show()"
   ]
  },
  {
   "cell_type": "code",
   "execution_count": 6,
   "metadata": {},
   "outputs": [
    {
     "data": {
      "text/html": [
       "<div>\n",
       "<style scoped>\n",
       "    .dataframe tbody tr th:only-of-type {\n",
       "        vertical-align: middle;\n",
       "    }\n",
       "\n",
       "    .dataframe tbody tr th {\n",
       "        vertical-align: top;\n",
       "    }\n",
       "\n",
       "    .dataframe thead th {\n",
       "        text-align: right;\n",
       "    }\n",
       "</style>\n",
       "<table border=\"1\" class=\"dataframe\">\n",
       "  <thead>\n",
       "    <tr style=\"text-align: right;\">\n",
       "      <th></th>\n",
       "      <th>site_id</th>\n",
       "      <th>building_id</th>\n",
       "      <th>primary_use</th>\n",
       "      <th>square_feet</th>\n",
       "      <th>year_built</th>\n",
       "      <th>floor_count</th>\n",
       "    </tr>\n",
       "  </thead>\n",
       "  <tbody>\n",
       "    <tr>\n",
       "      <th>1099</th>\n",
       "      <td>13</td>\n",
       "      <td>1099</td>\n",
       "      <td>Education</td>\n",
       "      <td>332884</td>\n",
       "      <td>NaN</td>\n",
       "      <td>NaN</td>\n",
       "    </tr>\n",
       "  </tbody>\n",
       "</table>\n",
       "</div>"
      ],
      "text/plain": [
       "      site_id  building_id primary_use  square_feet  year_built  floor_count\n",
       "1099       13         1099   Education       332884         NaN          NaN"
      ]
     },
     "execution_count": 6,
     "metadata": {},
     "output_type": "execute_result"
    }
   ],
   "source": [
    "#Not just one anomolous data point. Let's find out more about the building\n",
    "raw_data['building_metadata'][raw_data['building_metadata'].building_id == 1099]"
   ]
  },
  {
   "cell_type": "markdown",
   "metadata": {},
   "source": [
    "Not just one value so not sure what to do about this - leave for now"
   ]
  },
  {
   "cell_type": "markdown",
   "metadata": {},
   "source": [
    "### Strange values"
   ]
  },
  {
   "cell_type": "code",
   "execution_count": 7,
   "metadata": {},
   "outputs": [
    {
     "name": "stderr",
     "output_type": "stream",
     "text": [
      "/anaconda3/envs/ASHRAE/lib/python3.7/site-packages/pandas/core/indexing.py:494: SettingWithCopyWarning: \n",
      "A value is trying to be set on a copy of a slice from a DataFrame.\n",
      "Try using .loc[row_indexer,col_indexer] = value instead\n",
      "\n",
      "See the caveats in the documentation: http://pandas.pydata.org/pandas-docs/stable/user_guide/indexing.html#returning-a-view-versus-a-copy\n",
      "  self.obj[item] = s\n"
     ]
    }
   ],
   "source": [
    "# It is reported in this discussion by @barnwellguy that All electricity meter is 0 until May 20 for site_id == 0.\n",
    "buildings_site_0 = raw_data['building_metadata'].building_id[raw_data['building_metadata'].site_id == 0]\n",
    "elec_buildings_site_0 = raw_train[(raw_train.building_id.isin(list(buildings_site_0)))\n",
    "                                 & (raw_train.meter == 0)]\n",
    "elec_buildings_site_0.loc[:,'timestamp'] = pd.to_datetime(elec_buildings_site_0['timestamp'])\n",
    "elec_buildings_site_0_pre_20may = elec_buildings_site_0[elec_buildings_site_0['timestamp'] < \"2016-05-21\"]"
   ]
  },
  {
   "cell_type": "code",
   "execution_count": 8,
   "metadata": {},
   "outputs": [],
   "source": [
    "elec_buildings_site_0_pre_20may_pivoted = elec_buildings_site_0_pre_20may.pivot(index='timestamp',\n",
    "                                     columns = 'building_id', \n",
    "                                     values = 'meter_reading')"
   ]
  },
  {
   "cell_type": "code",
   "execution_count": 9,
   "metadata": {
    "scrolled": true
   },
   "outputs": [
    {
     "data": {
      "image/png": "[encoded data removed]",
      "text/plain": [
       "<Figure size 432x288 with 1 Axes>"
      ]
     },
     "metadata": {
      "needs_background": "light"
     },
     "output_type": "display_data"
    }
   ],
   "source": [
    "elec_buildings_site_0_pre_20may_pivoted.plot(legend=False)\n",
    "plt.show()"
   ]
  },
  {
   "cell_type": "markdown",
   "metadata": {},
   "source": [
    "There is some data there for all of the buildings but it is very odd - leave for now but bear in mind"
   ]
  },
  {
   "cell_type": "markdown",
   "metadata": {},
   "source": [
    "### Are their missing timestamps?"
   ]
  },
  {
   "cell_type": "markdown",
   "metadata": {},
   "source": [
    "#### Weather train"
   ]
  },
  {
   "cell_type": "code",
   "execution_count": 10,
   "metadata": {},
   "outputs": [
    {
     "name": "stdout",
     "output_type": "stream",
     "text": [
      "There are 139773 timestamps in the data. The full date range is 8784 long and there are 16 sites so there should be 140544 timestamps in the data. There are therefore 771 missing. \n"
     ]
    },
    {
     "data": {
      "text/plain": [
       "771"
      ]
     },
     "execution_count": 10,
     "metadata": {},
     "output_type": "execute_result"
    }
   ],
   "source": [
    "exp.count_missing_timestamps(raw_data['weather_train'])"
   ]
  },
  {
   "cell_type": "markdown",
   "metadata": {},
   "source": [
    "#### Weather test"
   ]
  },
  {
   "cell_type": "code",
   "execution_count": 11,
   "metadata": {},
   "outputs": [
    {
     "name": "stdout",
     "output_type": "stream",
     "text": [
      "There are 277243 timestamps in the data. The full date range is 17520 long and there are 16 sites so there should be 280320 timestamps in the data. There are therefore 3077 missing. \n"
     ]
    },
    {
     "data": {
      "text/plain": [
       "3077"
      ]
     },
     "execution_count": 11,
     "metadata": {},
     "output_type": "execute_result"
    }
   ],
   "source": [
    "exp.count_missing_timestamps(raw_data['weather_test'])"
   ]
  },
  {
   "cell_type": "markdown",
   "metadata": {},
   "source": [
    "So weather data is missing some timestamps in both test and train"
   ]
  },
  {
   "cell_type": "markdown",
   "metadata": {},
   "source": [
    "### So need to..."
   ]
  },
  {
   "cell_type": "markdown",
   "metadata": {},
   "source": [
    " - fill in NAN's in weather data\n",
    " - add missing dates to weather data and interpolate the blanks\n",
    " - Not sure what to do about building 1099's steam data - doesn't seem to be just one anomoly\n",
    " - Leave the nans in the building dataframe for now - I don't think we need to use those features\n"
   ]
  },
  {
   "cell_type": "markdown",
   "metadata": {},
   "source": [
    "## Fix them, reformat a few columns and add meter type names"
   ]
  },
  {
   "cell_type": "code",
   "execution_count": 12,
   "metadata": {},
   "outputs": [
    {
     "name": "stdout",
     "output_type": "stream",
     "text": [
      "Cleaning weather_train dataset\n",
      "Cleaning weather_test dataset\n",
      "Cleaning train dataset\n",
      "Cleaning test dataset\n"
     ]
    }
   ],
   "source": [
    "cleaned_data = rcd.clean_data(raw_data)"
   ]
  },
  {
   "cell_type": "code",
   "execution_count": 13,
   "metadata": {},
   "outputs": [
    {
     "name": "stdout",
     "output_type": "stream",
     "text": [
      "There are 140544 timestamps in the data. The full date range is 8784 long and there are 16 sites so there should be 140544 timestamps in the data. There are therefore 0 missing. \n"
     ]
    },
    {
     "data": {
      "text/plain": [
       "0"
      ]
     },
     "execution_count": 13,
     "metadata": {},
     "output_type": "execute_result"
    }
   ],
   "source": [
    "exp.count_missing_timestamps(cleaned_data['weather_train'])"
   ]
  },
  {
   "cell_type": "code",
   "execution_count": 14,
   "metadata": {},
   "outputs": [
    {
     "name": "stdout",
     "output_type": "stream",
     "text": [
      "There are 280320 timestamps in the data. The full date range is 17520 long and there are 16 sites so there should be 280320 timestamps in the data. There are therefore 0 missing. \n"
     ]
    },
    {
     "data": {
      "text/plain": [
       "0"
      ]
     },
     "execution_count": 14,
     "metadata": {},
     "output_type": "execute_result"
    }
   ],
   "source": [
    "exp.count_missing_timestamps(cleaned_data['weather_test'])"
   ]
  },
  {
   "cell_type": "markdown",
   "metadata": {},
   "source": [
    "# 1. Have a look at the data more generally\n",
    "### 1.1 Building metadata"
   ]
  },
  {
   "cell_type": "code",
   "execution_count": 15,
   "metadata": {},
   "outputs": [
    {
     "data": {
      "text/html": [
       "<div>\n",
       "<style scoped>\n",
       "    .dataframe tbody tr th:only-of-type {\n",
       "        vertical-align: middle;\n",
       "    }\n",
       "\n",
       "    .dataframe tbody tr th {\n",
       "        vertical-align: top;\n",
       "    }\n",
       "\n",
       "    .dataframe thead th {\n",
       "        text-align: right;\n",
       "    }\n",
       "</style>\n",
       "<table border=\"1\" class=\"dataframe\">\n",
       "  <thead>\n",
       "    <tr style=\"text-align: right;\">\n",
       "      <th></th>\n",
       "      <th>site_id</th>\n",
       "      <th>building_id</th>\n",
       "      <th>primary_use</th>\n",
       "      <th>square_feet</th>\n",
       "      <th>year_built</th>\n",
       "      <th>floor_count</th>\n",
       "    </tr>\n",
       "  </thead>\n",
       "  <tbody>\n",
       "    <tr>\n",
       "      <th>0</th>\n",
       "      <td>0</td>\n",
       "      <td>0</td>\n",
       "      <td>Education</td>\n",
       "      <td>7432</td>\n",
       "      <td>2008.0</td>\n",
       "      <td>NaN</td>\n",
       "    </tr>\n",
       "    <tr>\n",
       "      <th>1</th>\n",
       "      <td>0</td>\n",
       "      <td>1</td>\n",
       "      <td>Education</td>\n",
       "      <td>2720</td>\n",
       "      <td>2004.0</td>\n",
       "      <td>NaN</td>\n",
       "    </tr>\n",
       "    <tr>\n",
       "      <th>2</th>\n",
       "      <td>0</td>\n",
       "      <td>2</td>\n",
       "      <td>Education</td>\n",
       "      <td>5376</td>\n",
       "      <td>1991.0</td>\n",
       "      <td>NaN</td>\n",
       "    </tr>\n",
       "    <tr>\n",
       "      <th>3</th>\n",
       "      <td>0</td>\n",
       "      <td>3</td>\n",
       "      <td>Education</td>\n",
       "      <td>23685</td>\n",
       "      <td>2002.0</td>\n",
       "      <td>NaN</td>\n",
       "    </tr>\n",
       "    <tr>\n",
       "      <th>4</th>\n",
       "      <td>0</td>\n",
       "      <td>4</td>\n",
       "      <td>Education</td>\n",
       "      <td>116607</td>\n",
       "      <td>1975.0</td>\n",
       "      <td>NaN</td>\n",
       "    </tr>\n",
       "    <tr>\n",
       "      <th>...</th>\n",
       "      <td>...</td>\n",
       "      <td>...</td>\n",
       "      <td>...</td>\n",
       "      <td>...</td>\n",
       "      <td>...</td>\n",
       "      <td>...</td>\n",
       "    </tr>\n",
       "    <tr>\n",
       "      <th>1444</th>\n",
       "      <td>15</td>\n",
       "      <td>1444</td>\n",
       "      <td>Entertainment/public assembly</td>\n",
       "      <td>19619</td>\n",
       "      <td>1914.0</td>\n",
       "      <td>NaN</td>\n",
       "    </tr>\n",
       "    <tr>\n",
       "      <th>1445</th>\n",
       "      <td>15</td>\n",
       "      <td>1445</td>\n",
       "      <td>Education</td>\n",
       "      <td>4298</td>\n",
       "      <td>NaN</td>\n",
       "      <td>NaN</td>\n",
       "    </tr>\n",
       "    <tr>\n",
       "      <th>1446</th>\n",
       "      <td>15</td>\n",
       "      <td>1446</td>\n",
       "      <td>Entertainment/public assembly</td>\n",
       "      <td>11265</td>\n",
       "      <td>1997.0</td>\n",
       "      <td>NaN</td>\n",
       "    </tr>\n",
       "    <tr>\n",
       "      <th>1447</th>\n",
       "      <td>15</td>\n",
       "      <td>1447</td>\n",
       "      <td>Lodging/residential</td>\n",
       "      <td>29775</td>\n",
       "      <td>2001.0</td>\n",
       "      <td>NaN</td>\n",
       "    </tr>\n",
       "    <tr>\n",
       "      <th>1448</th>\n",
       "      <td>15</td>\n",
       "      <td>1448</td>\n",
       "      <td>Office</td>\n",
       "      <td>92271</td>\n",
       "      <td>2001.0</td>\n",
       "      <td>NaN</td>\n",
       "    </tr>\n",
       "  </tbody>\n",
       "</table>\n",
       "<p>1449 rows × 6 columns</p>\n",
       "</div>"
      ],
      "text/plain": [
       "      site_id  building_id                    primary_use  square_feet  \\\n",
       "0           0            0                      Education         7432   \n",
       "1           0            1                      Education         2720   \n",
       "2           0            2                      Education         5376   \n",
       "3           0            3                      Education        23685   \n",
       "4           0            4                      Education       116607   \n",
       "...       ...          ...                            ...          ...   \n",
       "1444       15         1444  Entertainment/public assembly        19619   \n",
       "1445       15         1445                      Education         4298   \n",
       "1446       15         1446  Entertainment/public assembly        11265   \n",
       "1447       15         1447            Lodging/residential        29775   \n",
       "1448       15         1448                         Office        92271   \n",
       "\n",
       "      year_built  floor_count  \n",
       "0         2008.0          NaN  \n",
       "1         2004.0          NaN  \n",
       "2         1991.0          NaN  \n",
       "3         2002.0          NaN  \n",
       "4         1975.0          NaN  \n",
       "...          ...          ...  \n",
       "1444      1914.0          NaN  \n",
       "1445         NaN          NaN  \n",
       "1446      1997.0          NaN  \n",
       "1447      2001.0          NaN  \n",
       "1448      2001.0          NaN  \n",
       "\n",
       "[1449 rows x 6 columns]"
      ]
     },
     "execution_count": 15,
     "metadata": {},
     "output_type": "execute_result"
    }
   ],
   "source": [
    "cleaned_data['building_metadata']"
   ]
  },
  {
   "cell_type": "code",
   "execution_count": 16,
   "metadata": {},
   "outputs": [
    {
     "data": {
      "text/html": [
       "<div>\n",
       "<style scoped>\n",
       "    .dataframe tbody tr th:only-of-type {\n",
       "        vertical-align: middle;\n",
       "    }\n",
       "\n",
       "    .dataframe tbody tr th {\n",
       "        vertical-align: top;\n",
       "    }\n",
       "\n",
       "    .dataframe thead th {\n",
       "        text-align: right;\n",
       "    }\n",
       "</style>\n",
       "<table border=\"1\" class=\"dataframe\">\n",
       "  <thead>\n",
       "    <tr style=\"text-align: right;\">\n",
       "      <th></th>\n",
       "      <th>site_id</th>\n",
       "      <th>building_id</th>\n",
       "      <th>square_feet</th>\n",
       "      <th>year_built</th>\n",
       "      <th>floor_count</th>\n",
       "    </tr>\n",
       "  </thead>\n",
       "  <tbody>\n",
       "    <tr>\n",
       "      <th>count</th>\n",
       "      <td>1449.000000</td>\n",
       "      <td>1449.000000</td>\n",
       "      <td>1449.000000</td>\n",
       "      <td>675.000000</td>\n",
       "      <td>355.000000</td>\n",
       "    </tr>\n",
       "    <tr>\n",
       "      <th>mean</th>\n",
       "      <td>6.952381</td>\n",
       "      <td>724.000000</td>\n",
       "      <td>92111.776398</td>\n",
       "      <td>1967.957037</td>\n",
       "      <td>3.740845</td>\n",
       "    </tr>\n",
       "    <tr>\n",
       "      <th>std</th>\n",
       "      <td>5.003432</td>\n",
       "      <td>418.434583</td>\n",
       "      <td>110769.950997</td>\n",
       "      <td>31.054030</td>\n",
       "      <td>3.333683</td>\n",
       "    </tr>\n",
       "    <tr>\n",
       "      <th>min</th>\n",
       "      <td>0.000000</td>\n",
       "      <td>0.000000</td>\n",
       "      <td>283.000000</td>\n",
       "      <td>1900.000000</td>\n",
       "      <td>1.000000</td>\n",
       "    </tr>\n",
       "    <tr>\n",
       "      <th>25%</th>\n",
       "      <td>3.000000</td>\n",
       "      <td>362.000000</td>\n",
       "      <td>23012.000000</td>\n",
       "      <td>1949.000000</td>\n",
       "      <td>1.000000</td>\n",
       "    </tr>\n",
       "    <tr>\n",
       "      <th>50%</th>\n",
       "      <td>5.000000</td>\n",
       "      <td>724.000000</td>\n",
       "      <td>57673.000000</td>\n",
       "      <td>1970.000000</td>\n",
       "      <td>3.000000</td>\n",
       "    </tr>\n",
       "    <tr>\n",
       "      <th>75%</th>\n",
       "      <td>13.000000</td>\n",
       "      <td>1086.000000</td>\n",
       "      <td>115676.000000</td>\n",
       "      <td>1995.000000</td>\n",
       "      <td>5.000000</td>\n",
       "    </tr>\n",
       "    <tr>\n",
       "      <th>max</th>\n",
       "      <td>15.000000</td>\n",
       "      <td>1448.000000</td>\n",
       "      <td>875000.000000</td>\n",
       "      <td>2017.000000</td>\n",
       "      <td>26.000000</td>\n",
       "    </tr>\n",
       "  </tbody>\n",
       "</table>\n",
       "</div>"
      ],
      "text/plain": [
       "           site_id  building_id    square_feet   year_built  floor_count\n",
       "count  1449.000000  1449.000000    1449.000000   675.000000   355.000000\n",
       "mean      6.952381   724.000000   92111.776398  1967.957037     3.740845\n",
       "std       5.003432   418.434583  110769.950997    31.054030     3.333683\n",
       "min       0.000000     0.000000     283.000000  1900.000000     1.000000\n",
       "25%       3.000000   362.000000   23012.000000  1949.000000     1.000000\n",
       "50%       5.000000   724.000000   57673.000000  1970.000000     3.000000\n",
       "75%      13.000000  1086.000000  115676.000000  1995.000000     5.000000\n",
       "max      15.000000  1448.000000  875000.000000  2017.000000    26.000000"
      ]
     },
     "execution_count": 16,
     "metadata": {},
     "output_type": "execute_result"
    }
   ],
   "source": [
    "cleaned_data['building_metadata'].describe()"
   ]
  },
  {
   "cell_type": "markdown",
   "metadata": {},
   "source": [
    "## 1.2 Weather training data"
   ]
  },
  {
   "cell_type": "code",
   "execution_count": 17,
   "metadata": {},
   "outputs": [
    {
     "data": {
      "text/html": [
       "<div>\n",
       "<style scoped>\n",
       "    .dataframe tbody tr th:only-of-type {\n",
       "        vertical-align: middle;\n",
       "    }\n",
       "\n",
       "    .dataframe tbody tr th {\n",
       "        vertical-align: top;\n",
       "    }\n",
       "\n",
       "    .dataframe thead th {\n",
       "        text-align: right;\n",
       "    }\n",
       "</style>\n",
       "<table border=\"1\" class=\"dataframe\">\n",
       "  <thead>\n",
       "    <tr style=\"text-align: right;\">\n",
       "      <th></th>\n",
       "      <th>site_id</th>\n",
       "      <th>timestamp</th>\n",
       "      <th>air_temperature</th>\n",
       "      <th>cloud_coverage</th>\n",
       "      <th>dew_temperature</th>\n",
       "      <th>precip_depth_1_hr</th>\n",
       "      <th>sea_level_pressure</th>\n",
       "      <th>wind_direction</th>\n",
       "      <th>wind_speed</th>\n",
       "    </tr>\n",
       "  </thead>\n",
       "  <tbody>\n",
       "    <tr>\n",
       "      <th>0</th>\n",
       "      <td>0</td>\n",
       "      <td>2016-01-01 00:00:00</td>\n",
       "      <td>25.0</td>\n",
       "      <td>6.0</td>\n",
       "      <td>20.0</td>\n",
       "      <td>-1.0</td>\n",
       "      <td>1019.70</td>\n",
       "      <td>0.0</td>\n",
       "      <td>0.0</td>\n",
       "    </tr>\n",
       "    <tr>\n",
       "      <th>1</th>\n",
       "      <td>0</td>\n",
       "      <td>2016-01-01 01:00:00</td>\n",
       "      <td>24.4</td>\n",
       "      <td>4.0</td>\n",
       "      <td>21.1</td>\n",
       "      <td>-1.0</td>\n",
       "      <td>1020.20</td>\n",
       "      <td>70.0</td>\n",
       "      <td>1.5</td>\n",
       "    </tr>\n",
       "    <tr>\n",
       "      <th>2</th>\n",
       "      <td>0</td>\n",
       "      <td>2016-01-01 02:00:00</td>\n",
       "      <td>22.8</td>\n",
       "      <td>2.0</td>\n",
       "      <td>21.1</td>\n",
       "      <td>0.0</td>\n",
       "      <td>1020.20</td>\n",
       "      <td>0.0</td>\n",
       "      <td>0.0</td>\n",
       "    </tr>\n",
       "    <tr>\n",
       "      <th>3</th>\n",
       "      <td>0</td>\n",
       "      <td>2016-01-01 03:00:00</td>\n",
       "      <td>21.1</td>\n",
       "      <td>2.0</td>\n",
       "      <td>20.6</td>\n",
       "      <td>0.0</td>\n",
       "      <td>1020.10</td>\n",
       "      <td>0.0</td>\n",
       "      <td>0.0</td>\n",
       "    </tr>\n",
       "    <tr>\n",
       "      <th>4</th>\n",
       "      <td>0</td>\n",
       "      <td>2016-01-01 04:00:00</td>\n",
       "      <td>20.0</td>\n",
       "      <td>2.0</td>\n",
       "      <td>20.0</td>\n",
       "      <td>-1.0</td>\n",
       "      <td>1020.00</td>\n",
       "      <td>250.0</td>\n",
       "      <td>2.6</td>\n",
       "    </tr>\n",
       "    <tr>\n",
       "      <th>...</th>\n",
       "      <td>...</td>\n",
       "      <td>...</td>\n",
       "      <td>...</td>\n",
       "      <td>...</td>\n",
       "      <td>...</td>\n",
       "      <td>...</td>\n",
       "      <td>...</td>\n",
       "      <td>...</td>\n",
       "      <td>...</td>\n",
       "    </tr>\n",
       "    <tr>\n",
       "      <th>140539</th>\n",
       "      <td>15</td>\n",
       "      <td>2016-12-31 19:00:00</td>\n",
       "      <td>3.0</td>\n",
       "      <td>1.5</td>\n",
       "      <td>-8.0</td>\n",
       "      <td>-1.0</td>\n",
       "      <td>1007.55</td>\n",
       "      <td>180.0</td>\n",
       "      <td>5.7</td>\n",
       "    </tr>\n",
       "    <tr>\n",
       "      <th>140540</th>\n",
       "      <td>15</td>\n",
       "      <td>2016-12-31 20:00:00</td>\n",
       "      <td>2.8</td>\n",
       "      <td>2.0</td>\n",
       "      <td>-8.9</td>\n",
       "      <td>-1.0</td>\n",
       "      <td>1007.40</td>\n",
       "      <td>180.0</td>\n",
       "      <td>7.7</td>\n",
       "    </tr>\n",
       "    <tr>\n",
       "      <th>140541</th>\n",
       "      <td>15</td>\n",
       "      <td>2016-12-31 21:00:00</td>\n",
       "      <td>2.8</td>\n",
       "      <td>2.0</td>\n",
       "      <td>-7.2</td>\n",
       "      <td>-1.0</td>\n",
       "      <td>1007.50</td>\n",
       "      <td>180.0</td>\n",
       "      <td>5.1</td>\n",
       "    </tr>\n",
       "    <tr>\n",
       "      <th>140542</th>\n",
       "      <td>15</td>\n",
       "      <td>2016-12-31 22:00:00</td>\n",
       "      <td>2.2</td>\n",
       "      <td>2.0</td>\n",
       "      <td>-6.7</td>\n",
       "      <td>-1.0</td>\n",
       "      <td>1008.00</td>\n",
       "      <td>170.0</td>\n",
       "      <td>4.6</td>\n",
       "    </tr>\n",
       "    <tr>\n",
       "      <th>140543</th>\n",
       "      <td>15</td>\n",
       "      <td>2016-12-31 23:00:00</td>\n",
       "      <td>1.7</td>\n",
       "      <td>2.0</td>\n",
       "      <td>-5.6</td>\n",
       "      <td>-1.0</td>\n",
       "      <td>1008.50</td>\n",
       "      <td>180.0</td>\n",
       "      <td>8.8</td>\n",
       "    </tr>\n",
       "  </tbody>\n",
       "</table>\n",
       "<p>140544 rows × 9 columns</p>\n",
       "</div>"
      ],
      "text/plain": [
       "        site_id           timestamp  air_temperature  cloud_coverage  \\\n",
       "0             0 2016-01-01 00:00:00             25.0             6.0   \n",
       "1             0 2016-01-01 01:00:00             24.4             4.0   \n",
       "2             0 2016-01-01 02:00:00             22.8             2.0   \n",
       "3             0 2016-01-01 03:00:00             21.1             2.0   \n",
       "4             0 2016-01-01 04:00:00             20.0             2.0   \n",
       "...         ...                 ...              ...             ...   \n",
       "140539       15 2016-12-31 19:00:00              3.0             1.5   \n",
       "140540       15 2016-12-31 20:00:00              2.8             2.0   \n",
       "140541       15 2016-12-31 21:00:00              2.8             2.0   \n",
       "140542       15 2016-12-31 22:00:00              2.2             2.0   \n",
       "140543       15 2016-12-31 23:00:00              1.7             2.0   \n",
       "\n",
       "        dew_temperature  precip_depth_1_hr  sea_level_pressure  \\\n",
       "0                  20.0               -1.0             1019.70   \n",
       "1                  21.1               -1.0             1020.20   \n",
       "2                  21.1                0.0             1020.20   \n",
       "3                  20.6                0.0             1020.10   \n",
       "4                  20.0               -1.0             1020.00   \n",
       "...                 ...                ...                 ...   \n",
       "140539             -8.0               -1.0             1007.55   \n",
       "140540             -8.9               -1.0             1007.40   \n",
       "140541             -7.2               -1.0             1007.50   \n",
       "140542             -6.7               -1.0             1008.00   \n",
       "140543             -5.6               -1.0             1008.50   \n",
       "\n",
       "        wind_direction  wind_speed  \n",
       "0                  0.0         0.0  \n",
       "1                 70.0         1.5  \n",
       "2                  0.0         0.0  \n",
       "3                  0.0         0.0  \n",
       "4                250.0         2.6  \n",
       "...                ...         ...  \n",
       "140539           180.0         5.7  \n",
       "140540           180.0         7.7  \n",
       "140541           180.0         5.1  \n",
       "140542           170.0         4.6  \n",
       "140543           180.0         8.8  \n",
       "\n",
       "[140544 rows x 9 columns]"
      ]
     },
     "execution_count": 17,
     "metadata": {},
     "output_type": "execute_result"
    }
   ],
   "source": [
    "cleaned_data['weather_train']"
   ]
  },
  {
   "cell_type": "code",
   "execution_count": 18,
   "metadata": {},
   "outputs": [
    {
     "data": {
      "text/html": [
       "<div>\n",
       "<style scoped>\n",
       "    .dataframe tbody tr th:only-of-type {\n",
       "        vertical-align: middle;\n",
       "    }\n",
       "\n",
       "    .dataframe tbody tr th {\n",
       "        vertical-align: top;\n",
       "    }\n",
       "\n",
       "    .dataframe thead th {\n",
       "        text-align: right;\n",
       "    }\n",
       "</style>\n",
       "<table border=\"1\" class=\"dataframe\">\n",
       "  <thead>\n",
       "    <tr style=\"text-align: right;\">\n",
       "      <th></th>\n",
       "      <th>site_id</th>\n",
       "      <th>air_temperature</th>\n",
       "      <th>cloud_coverage</th>\n",
       "      <th>dew_temperature</th>\n",
       "      <th>precip_depth_1_hr</th>\n",
       "      <th>sea_level_pressure</th>\n",
       "      <th>wind_direction</th>\n",
       "      <th>wind_speed</th>\n",
       "    </tr>\n",
       "  </thead>\n",
       "  <tbody>\n",
       "    <tr>\n",
       "      <th>count</th>\n",
       "      <td>140544.000000</td>\n",
       "      <td>140544.000000</td>\n",
       "      <td>122976.000000</td>\n",
       "      <td>140544.000000</td>\n",
       "      <td>114192.000000</td>\n",
       "      <td>131760.000000</td>\n",
       "      <td>140544.000000</td>\n",
       "      <td>140544.000000</td>\n",
       "    </tr>\n",
       "    <tr>\n",
       "      <th>mean</th>\n",
       "      <td>7.500000</td>\n",
       "      <td>14.355675</td>\n",
       "      <td>2.633782</td>\n",
       "      <td>7.299226</td>\n",
       "      <td>2.591872</td>\n",
       "      <td>1016.142669</td>\n",
       "      <td>179.566086</td>\n",
       "      <td>3.561964</td>\n",
       "    </tr>\n",
       "    <tr>\n",
       "      <th>std</th>\n",
       "      <td>4.609789</td>\n",
       "      <td>10.671025</td>\n",
       "      <td>2.755691</td>\n",
       "      <td>9.823550</td>\n",
       "      <td>11.570146</td>\n",
       "      <td>7.642530</td>\n",
       "      <td>110.780692</td>\n",
       "      <td>2.333866</td>\n",
       "    </tr>\n",
       "    <tr>\n",
       "      <th>min</th>\n",
       "      <td>0.000000</td>\n",
       "      <td>-28.900000</td>\n",
       "      <td>0.000000</td>\n",
       "      <td>-35.000000</td>\n",
       "      <td>-1.000000</td>\n",
       "      <td>968.200000</td>\n",
       "      <td>0.000000</td>\n",
       "      <td>0.000000</td>\n",
       "    </tr>\n",
       "    <tr>\n",
       "      <th>25%</th>\n",
       "      <td>3.750000</td>\n",
       "      <td>7.200000</td>\n",
       "      <td>0.000000</td>\n",
       "      <td>0.600000</td>\n",
       "      <td>0.000000</td>\n",
       "      <td>1011.700000</td>\n",
       "      <td>80.000000</td>\n",
       "      <td>2.100000</td>\n",
       "    </tr>\n",
       "    <tr>\n",
       "      <th>50%</th>\n",
       "      <td>7.500000</td>\n",
       "      <td>15.000000</td>\n",
       "      <td>2.000000</td>\n",
       "      <td>8.200000</td>\n",
       "      <td>0.000000</td>\n",
       "      <td>1016.400000</td>\n",
       "      <td>190.000000</td>\n",
       "      <td>3.100000</td>\n",
       "    </tr>\n",
       "    <tr>\n",
       "      <th>75%</th>\n",
       "      <td>11.250000</td>\n",
       "      <td>22.200000</td>\n",
       "      <td>4.000000</td>\n",
       "      <td>14.400000</td>\n",
       "      <td>0.000000</td>\n",
       "      <td>1020.800000</td>\n",
       "      <td>280.000000</td>\n",
       "      <td>5.000000</td>\n",
       "    </tr>\n",
       "    <tr>\n",
       "      <th>max</th>\n",
       "      <td>15.000000</td>\n",
       "      <td>47.200000</td>\n",
       "      <td>9.000000</td>\n",
       "      <td>26.100000</td>\n",
       "      <td>343.000000</td>\n",
       "      <td>1045.500000</td>\n",
       "      <td>360.000000</td>\n",
       "      <td>19.000000</td>\n",
       "    </tr>\n",
       "  </tbody>\n",
       "</table>\n",
       "</div>"
      ],
      "text/plain": [
       "             site_id  air_temperature  cloud_coverage  dew_temperature  \\\n",
       "count  140544.000000    140544.000000   122976.000000    140544.000000   \n",
       "mean        7.500000        14.355675        2.633782         7.299226   \n",
       "std         4.609789        10.671025        2.755691         9.823550   \n",
       "min         0.000000       -28.900000        0.000000       -35.000000   \n",
       "25%         3.750000         7.200000        0.000000         0.600000   \n",
       "50%         7.500000        15.000000        2.000000         8.200000   \n",
       "75%        11.250000        22.200000        4.000000        14.400000   \n",
       "max        15.000000        47.200000        9.000000        26.100000   \n",
       "\n",
       "       precip_depth_1_hr  sea_level_pressure  wind_direction     wind_speed  \n",
       "count      114192.000000       131760.000000   140544.000000  140544.000000  \n",
       "mean            2.591872         1016.142669      179.566086       3.561964  \n",
       "std            11.570146            7.642530      110.780692       2.333866  \n",
       "min            -1.000000          968.200000        0.000000       0.000000  \n",
       "25%             0.000000         1011.700000       80.000000       2.100000  \n",
       "50%             0.000000         1016.400000      190.000000       3.100000  \n",
       "75%             0.000000         1020.800000      280.000000       5.000000  \n",
       "max           343.000000         1045.500000      360.000000      19.000000  "
      ]
     },
     "execution_count": 18,
     "metadata": {},
     "output_type": "execute_result"
    }
   ],
   "source": [
    "cleaned_data['weather_train'].describe()"
   ]
  },
  {
   "cell_type": "markdown",
   "metadata": {},
   "source": [
    "## 1.3 Consumption training data"
   ]
  },
  {
   "cell_type": "code",
   "execution_count": 19,
   "metadata": {},
   "outputs": [
    {
     "data": {
      "text/html": [
       "<div>\n",
       "<style scoped>\n",
       "    .dataframe tbody tr th:only-of-type {\n",
       "        vertical-align: middle;\n",
       "    }\n",
       "\n",
       "    .dataframe tbody tr th {\n",
       "        vertical-align: top;\n",
       "    }\n",
       "\n",
       "    .dataframe thead th {\n",
       "        text-align: right;\n",
       "    }\n",
       "</style>\n",
       "<table border=\"1\" class=\"dataframe\">\n",
       "  <thead>\n",
       "    <tr style=\"text-align: right;\">\n",
       "      <th></th>\n",
       "      <th>building_id</th>\n",
       "      <th>meter</th>\n",
       "      <th>timestamp</th>\n",
       "      <th>meter_reading</th>\n",
       "      <th>meter_type</th>\n",
       "    </tr>\n",
       "  </thead>\n",
       "  <tbody>\n",
       "    <tr>\n",
       "      <th>0</th>\n",
       "      <td>0</td>\n",
       "      <td>0</td>\n",
       "      <td>2016-01-01 00:00:00</td>\n",
       "      <td>0.000</td>\n",
       "      <td>electricity</td>\n",
       "    </tr>\n",
       "    <tr>\n",
       "      <th>1</th>\n",
       "      <td>1</td>\n",
       "      <td>0</td>\n",
       "      <td>2016-01-01 00:00:00</td>\n",
       "      <td>0.000</td>\n",
       "      <td>electricity</td>\n",
       "    </tr>\n",
       "    <tr>\n",
       "      <th>2</th>\n",
       "      <td>2</td>\n",
       "      <td>0</td>\n",
       "      <td>2016-01-01 00:00:00</td>\n",
       "      <td>0.000</td>\n",
       "      <td>electricity</td>\n",
       "    </tr>\n",
       "    <tr>\n",
       "      <th>3</th>\n",
       "      <td>3</td>\n",
       "      <td>0</td>\n",
       "      <td>2016-01-01 00:00:00</td>\n",
       "      <td>0.000</td>\n",
       "      <td>electricity</td>\n",
       "    </tr>\n",
       "    <tr>\n",
       "      <th>4</th>\n",
       "      <td>4</td>\n",
       "      <td>0</td>\n",
       "      <td>2016-01-01 00:00:00</td>\n",
       "      <td>0.000</td>\n",
       "      <td>electricity</td>\n",
       "    </tr>\n",
       "    <tr>\n",
       "      <th>...</th>\n",
       "      <td>...</td>\n",
       "      <td>...</td>\n",
       "      <td>...</td>\n",
       "      <td>...</td>\n",
       "      <td>...</td>\n",
       "    </tr>\n",
       "    <tr>\n",
       "      <th>20216095</th>\n",
       "      <td>1444</td>\n",
       "      <td>0</td>\n",
       "      <td>2016-12-31 23:00:00</td>\n",
       "      <td>8.750</td>\n",
       "      <td>electricity</td>\n",
       "    </tr>\n",
       "    <tr>\n",
       "      <th>20216096</th>\n",
       "      <td>1445</td>\n",
       "      <td>0</td>\n",
       "      <td>2016-12-31 23:00:00</td>\n",
       "      <td>4.825</td>\n",
       "      <td>electricity</td>\n",
       "    </tr>\n",
       "    <tr>\n",
       "      <th>20216097</th>\n",
       "      <td>1446</td>\n",
       "      <td>0</td>\n",
       "      <td>2016-12-31 23:00:00</td>\n",
       "      <td>0.000</td>\n",
       "      <td>electricity</td>\n",
       "    </tr>\n",
       "    <tr>\n",
       "      <th>20216098</th>\n",
       "      <td>1447</td>\n",
       "      <td>0</td>\n",
       "      <td>2016-12-31 23:00:00</td>\n",
       "      <td>159.575</td>\n",
       "      <td>electricity</td>\n",
       "    </tr>\n",
       "    <tr>\n",
       "      <th>20216099</th>\n",
       "      <td>1448</td>\n",
       "      <td>0</td>\n",
       "      <td>2016-12-31 23:00:00</td>\n",
       "      <td>2.850</td>\n",
       "      <td>electricity</td>\n",
       "    </tr>\n",
       "  </tbody>\n",
       "</table>\n",
       "<p>20216100 rows × 5 columns</p>\n",
       "</div>"
      ],
      "text/plain": [
       "          building_id  meter           timestamp  meter_reading   meter_type\n",
       "0                   0      0 2016-01-01 00:00:00          0.000  electricity\n",
       "1                   1      0 2016-01-01 00:00:00          0.000  electricity\n",
       "2                   2      0 2016-01-01 00:00:00          0.000  electricity\n",
       "3                   3      0 2016-01-01 00:00:00          0.000  electricity\n",
       "4                   4      0 2016-01-01 00:00:00          0.000  electricity\n",
       "...               ...    ...                 ...            ...          ...\n",
       "20216095         1444      0 2016-12-31 23:00:00          8.750  electricity\n",
       "20216096         1445      0 2016-12-31 23:00:00          4.825  electricity\n",
       "20216097         1446      0 2016-12-31 23:00:00          0.000  electricity\n",
       "20216098         1447      0 2016-12-31 23:00:00        159.575  electricity\n",
       "20216099         1448      0 2016-12-31 23:00:00          2.850  electricity\n",
       "\n",
       "[20216100 rows x 5 columns]"
      ]
     },
     "execution_count": 19,
     "metadata": {},
     "output_type": "execute_result"
    }
   ],
   "source": [
    "cleaned_data['train']"
   ]
  },
  {
   "cell_type": "code",
   "execution_count": 20,
   "metadata": {},
   "outputs": [
    {
     "data": {
      "text/html": [
       "<div>\n",
       "<style scoped>\n",
       "    .dataframe tbody tr th:only-of-type {\n",
       "        vertical-align: middle;\n",
       "    }\n",
       "\n",
       "    .dataframe tbody tr th {\n",
       "        vertical-align: top;\n",
       "    }\n",
       "\n",
       "    .dataframe thead th {\n",
       "        text-align: right;\n",
       "    }\n",
       "</style>\n",
       "<table border=\"1\" class=\"dataframe\">\n",
       "  <thead>\n",
       "    <tr style=\"text-align: right;\">\n",
       "      <th></th>\n",
       "      <th>row_id</th>\n",
       "      <th>building_id</th>\n",
       "      <th>meter</th>\n",
       "      <th>timestamp</th>\n",
       "      <th>meter_type</th>\n",
       "    </tr>\n",
       "  </thead>\n",
       "  <tbody>\n",
       "    <tr>\n",
       "      <th>0</th>\n",
       "      <td>0</td>\n",
       "      <td>0</td>\n",
       "      <td>0</td>\n",
       "      <td>2017-01-01 00:00:00</td>\n",
       "      <td>electricity</td>\n",
       "    </tr>\n",
       "    <tr>\n",
       "      <th>1</th>\n",
       "      <td>1</td>\n",
       "      <td>1</td>\n",
       "      <td>0</td>\n",
       "      <td>2017-01-01 00:00:00</td>\n",
       "      <td>electricity</td>\n",
       "    </tr>\n",
       "    <tr>\n",
       "      <th>2</th>\n",
       "      <td>2</td>\n",
       "      <td>2</td>\n",
       "      <td>0</td>\n",
       "      <td>2017-01-01 00:00:00</td>\n",
       "      <td>electricity</td>\n",
       "    </tr>\n",
       "    <tr>\n",
       "      <th>3</th>\n",
       "      <td>3</td>\n",
       "      <td>3</td>\n",
       "      <td>0</td>\n",
       "      <td>2017-01-01 00:00:00</td>\n",
       "      <td>electricity</td>\n",
       "    </tr>\n",
       "    <tr>\n",
       "      <th>4</th>\n",
       "      <td>4</td>\n",
       "      <td>4</td>\n",
       "      <td>0</td>\n",
       "      <td>2017-01-01 00:00:00</td>\n",
       "      <td>electricity</td>\n",
       "    </tr>\n",
       "    <tr>\n",
       "      <th>...</th>\n",
       "      <td>...</td>\n",
       "      <td>...</td>\n",
       "      <td>...</td>\n",
       "      <td>...</td>\n",
       "      <td>...</td>\n",
       "    </tr>\n",
       "    <tr>\n",
       "      <th>41697595</th>\n",
       "      <td>41697595</td>\n",
       "      <td>1444</td>\n",
       "      <td>0</td>\n",
       "      <td>2018-05-09 07:00:00</td>\n",
       "      <td>electricity</td>\n",
       "    </tr>\n",
       "    <tr>\n",
       "      <th>41697596</th>\n",
       "      <td>41697596</td>\n",
       "      <td>1445</td>\n",
       "      <td>0</td>\n",
       "      <td>2018-05-09 07:00:00</td>\n",
       "      <td>electricity</td>\n",
       "    </tr>\n",
       "    <tr>\n",
       "      <th>41697597</th>\n",
       "      <td>41697597</td>\n",
       "      <td>1446</td>\n",
       "      <td>0</td>\n",
       "      <td>2018-05-09 07:00:00</td>\n",
       "      <td>electricity</td>\n",
       "    </tr>\n",
       "    <tr>\n",
       "      <th>41697598</th>\n",
       "      <td>41697598</td>\n",
       "      <td>1447</td>\n",
       "      <td>0</td>\n",
       "      <td>2018-05-09 07:00:00</td>\n",
       "      <td>electricity</td>\n",
       "    </tr>\n",
       "    <tr>\n",
       "      <th>41697599</th>\n",
       "      <td>41697599</td>\n",
       "      <td>1448</td>\n",
       "      <td>0</td>\n",
       "      <td>2018-05-09 07:00:00</td>\n",
       "      <td>electricity</td>\n",
       "    </tr>\n",
       "  </tbody>\n",
       "</table>\n",
       "<p>41697600 rows × 5 columns</p>\n",
       "</div>"
      ],
      "text/plain": [
       "            row_id  building_id  meter           timestamp   meter_type\n",
       "0                0            0      0 2017-01-01 00:00:00  electricity\n",
       "1                1            1      0 2017-01-01 00:00:00  electricity\n",
       "2                2            2      0 2017-01-01 00:00:00  electricity\n",
       "3                3            3      0 2017-01-01 00:00:00  electricity\n",
       "4                4            4      0 2017-01-01 00:00:00  electricity\n",
       "...            ...          ...    ...                 ...          ...\n",
       "41697595  41697595         1444      0 2018-05-09 07:00:00  electricity\n",
       "41697596  41697596         1445      0 2018-05-09 07:00:00  electricity\n",
       "41697597  41697597         1446      0 2018-05-09 07:00:00  electricity\n",
       "41697598  41697598         1447      0 2018-05-09 07:00:00  electricity\n",
       "41697599  41697599         1448      0 2018-05-09 07:00:00  electricity\n",
       "\n",
       "[41697600 rows x 5 columns]"
      ]
     },
     "execution_count": 20,
     "metadata": {},
     "output_type": "execute_result"
    }
   ],
   "source": [
    "cleaned_data['test']"
   ]
  },
  {
   "cell_type": "code",
   "execution_count": 21,
   "metadata": {},
   "outputs": [
    {
     "data": {
      "text/html": [
       "<div>\n",
       "<style scoped>\n",
       "    .dataframe tbody tr th:only-of-type {\n",
       "        vertical-align: middle;\n",
       "    }\n",
       "\n",
       "    .dataframe tbody tr th {\n",
       "        vertical-align: top;\n",
       "    }\n",
       "\n",
       "    .dataframe thead th {\n",
       "        text-align: right;\n",
       "    }\n",
       "</style>\n",
       "<table border=\"1\" class=\"dataframe\">\n",
       "  <thead>\n",
       "    <tr style=\"text-align: right;\">\n",
       "      <th></th>\n",
       "      <th>building_id</th>\n",
       "      <th>meter</th>\n",
       "      <th>meter_reading</th>\n",
       "    </tr>\n",
       "  </thead>\n",
       "  <tbody>\n",
       "    <tr>\n",
       "      <th>count</th>\n",
       "      <td>2.021610e+07</td>\n",
       "      <td>2.021610e+07</td>\n",
       "      <td>2.021610e+07</td>\n",
       "    </tr>\n",
       "    <tr>\n",
       "      <th>mean</th>\n",
       "      <td>7.992780e+02</td>\n",
       "      <td>6.624412e-01</td>\n",
       "      <td>2.117121e+03</td>\n",
       "    </tr>\n",
       "    <tr>\n",
       "      <th>std</th>\n",
       "      <td>4.269133e+02</td>\n",
       "      <td>9.309921e-01</td>\n",
       "      <td>1.532356e+05</td>\n",
       "    </tr>\n",
       "    <tr>\n",
       "      <th>min</th>\n",
       "      <td>0.000000e+00</td>\n",
       "      <td>0.000000e+00</td>\n",
       "      <td>0.000000e+00</td>\n",
       "    </tr>\n",
       "    <tr>\n",
       "      <th>25%</th>\n",
       "      <td>3.930000e+02</td>\n",
       "      <td>0.000000e+00</td>\n",
       "      <td>1.830000e+01</td>\n",
       "    </tr>\n",
       "    <tr>\n",
       "      <th>50%</th>\n",
       "      <td>8.950000e+02</td>\n",
       "      <td>0.000000e+00</td>\n",
       "      <td>7.877500e+01</td>\n",
       "    </tr>\n",
       "    <tr>\n",
       "      <th>75%</th>\n",
       "      <td>1.179000e+03</td>\n",
       "      <td>1.000000e+00</td>\n",
       "      <td>2.679840e+02</td>\n",
       "    </tr>\n",
       "    <tr>\n",
       "      <th>max</th>\n",
       "      <td>1.448000e+03</td>\n",
       "      <td>3.000000e+00</td>\n",
       "      <td>2.190470e+07</td>\n",
       "    </tr>\n",
       "  </tbody>\n",
       "</table>\n",
       "</div>"
      ],
      "text/plain": [
       "        building_id         meter  meter_reading\n",
       "count  2.021610e+07  2.021610e+07   2.021610e+07\n",
       "mean   7.992780e+02  6.624412e-01   2.117121e+03\n",
       "std    4.269133e+02  9.309921e-01   1.532356e+05\n",
       "min    0.000000e+00  0.000000e+00   0.000000e+00\n",
       "25%    3.930000e+02  0.000000e+00   1.830000e+01\n",
       "50%    8.950000e+02  0.000000e+00   7.877500e+01\n",
       "75%    1.179000e+03  1.000000e+00   2.679840e+02\n",
       "max    1.448000e+03  3.000000e+00   2.190470e+07"
      ]
     },
     "execution_count": 21,
     "metadata": {},
     "output_type": "execute_result"
    }
   ],
   "source": [
    "cleaned_data['train'].describe()"
   ]
  },
  {
   "cell_type": "markdown",
   "metadata": {},
   "source": [
    "## 2 Combined data "
   ]
  },
  {
   "cell_type": "markdown",
   "metadata": {},
   "source": [
    "### 2.1 Stick all data together, add variables for hour of day and weekend/weekday and split on meter type"
   ]
  },
  {
   "cell_type": "code",
   "execution_count": 22,
   "metadata": {},
   "outputs": [],
   "source": [
    "def join_input_data_and_multi_index(meter_readings_df, building_df, weather_df):\n",
    "    \n",
    "    # join meter and weather data\n",
    "    building_n_meter = meter_readings_df.merge(building_df, on='building_id', how='left')\n",
    "    all_df = building_n_meter.merge(weather_df, on=['site_id','timestamp'], how='left')\n",
    "    \n",
    "    # Add time related columns\n",
    "    all_df['hour'] = all_df['timestamp'].dt.hour\n",
    "    all_df['weekday'] = all_df['timestamp'].dt.dayofweek\n",
    "    all_df['week_number'] = all_df['timestamp'].dt.week\n",
    "    all_df['month'] = all_df['timestamp'].dt.month\n",
    "\n",
    "    all_df['is_weekend'] = all_df['weekday'].apply(lambda x: 1 if x in [0,6] else 0)\n",
    "    \n",
    "    \n",
    "    #multi index on building id and timestamp\n",
    "    all_df = all_df.set_index(['building_id', 'timestamp']).sort_index()\n",
    "    \n",
    "    return all_df\n",
    "\n",
    "\n",
    "def split_on_meter_type(all_df):\n",
    "    \n",
    "    elec = all_df[all_df['meter_type'] == 'electricity']\n",
    "    chilledwater = all_df[all_df['meter_type'] == 'chilledwater']\n",
    "    hotwater = all_df[all_df['meter_type'] == 'hotwater']\n",
    "    steam = all_df[all_df['meter_type'] == 'steam']\n",
    "    \n",
    "    return elec, chilledwater, hotwater, steam"
   ]
  },
  {
   "cell_type": "code",
   "execution_count": 23,
   "metadata": {},
   "outputs": [
    {
     "ename": "NameError",
     "evalue": "name 'os' is not defined",
     "output_type": "error",
     "traceback": [
      "\u001b[0;31m---------------------------------------------------------------------------\u001b[0m",
      "\u001b[0;31mNameError\u001b[0m                                 Traceback (most recent call last)",
      "\u001b[0;32m<ipython-input-23-f1f77e99c714>\u001b[0m in \u001b[0;36m<module>\u001b[0;34m\u001b[0m\n\u001b[0;32m----> 1\u001b[0;31m \u001b[0;32mif\u001b[0m \u001b[0mos\u001b[0m\u001b[0;34m.\u001b[0m\u001b[0mpath\u001b[0m\u001b[0;34m.\u001b[0m\u001b[0mexists\u001b[0m\u001b[0;34m(\u001b[0m\u001b[0;34m'store_split_meters.h5'\u001b[0m\u001b[0;34m)\u001b[0m\u001b[0;34m:\u001b[0m\u001b[0;34m\u001b[0m\u001b[0;34m\u001b[0m\u001b[0m\n\u001b[0m\u001b[1;32m      2\u001b[0m     \u001b[0mprint\u001b[0m\u001b[0;34m(\u001b[0m\u001b[0;34m'Reading from hdf'\u001b[0m\u001b[0;34m)\u001b[0m\u001b[0;34m\u001b[0m\u001b[0;34m\u001b[0m\u001b[0m\n\u001b[1;32m      3\u001b[0m \u001b[0;34m\u001b[0m\u001b[0m\n\u001b[1;32m      4\u001b[0m     \u001b[0;32mwith\u001b[0m \u001b[0mpd\u001b[0m\u001b[0;34m.\u001b[0m\u001b[0mHDFStore\u001b[0m\u001b[0;34m(\u001b[0m\u001b[0;34m'store_split_meters.h5'\u001b[0m\u001b[0;34m)\u001b[0m \u001b[0;32mas\u001b[0m \u001b[0mstore_split_meters\u001b[0m\u001b[0;34m:\u001b[0m\u001b[0;34m\u001b[0m\u001b[0;34m\u001b[0m\u001b[0m\n\u001b[1;32m      5\u001b[0m         \u001b[0melec_train\u001b[0m \u001b[0;34m=\u001b[0m \u001b[0mstore_split_meters\u001b[0m\u001b[0;34m[\u001b[0m\u001b[0;34m'elec_train'\u001b[0m\u001b[0;34m]\u001b[0m\u001b[0;34m\u001b[0m\u001b[0;34m\u001b[0m\u001b[0m\n",
      "\u001b[0;31mNameError\u001b[0m: name 'os' is not defined"
     ]
    }
   ],
   "source": [
    "if os.path.exists('store_split_meters.h5'):\n",
    "    print('Reading from hdf')\n",
    "    \n",
    "    with pd.HDFStore('store_split_meters.h5') as store_split_meters:\n",
    "        elec_train = store_split_meters['elec_train']\n",
    "        chilledwater_train = store_split_meters['chilledwater_train']\n",
    "        hotwater_train = store_split_meters['hotwater_train']\n",
    "        steam_train = store_split_meters['steam_train']\n",
    "\n",
    "#         elec_test = store_split_meters['elec_test']\n",
    "#         chilledwater_test = store_split_meters['chilledwater_test']\n",
    "#         hotwater_test = store_split_meters['hotwater_test']\n",
    "#         steam_test = store_split_meters['steam_test']\n",
    "        \n",
    "\n",
    "    \n",
    "else:\n",
    "    print('Processing from cleaned dfs')\n",
    "    \n",
    "    print('Merging')\n",
    "    train_all = join_input_data_and_multi_index(train, building, weather_train)\n",
    "#    test_all = join_input_data_and_multi_index(test, building, weather_test)\n",
    "    \n",
    "    print('Splitting')\n",
    "    elec_train, chilledwater_train, hotwater_train, steam_train = split_on_meter_type(train_all)\n",
    "#    elec_test, chilledwater_test, hotwater_test, steam_test = split_on_meter_type(test_all)\n",
    "    \n",
    "    \n",
    "    print('Writing to store')\n",
    "    with pd.HDFStore('store_split_meters.h5') as store_split_meters:\n",
    "        \n",
    "        \n",
    "        store_split_meters['elec_train'] = elec_train\n",
    "        store_split_meters['chilledwater_train'] = chilledwater_train\n",
    "        store_split_meters['hotwater_train'] = hotwater_train\n",
    "        store_split_meters['steam_train'] = steam_train\n",
    "\n",
    "#         store_split_meters['elec_test'] = elec_test    \n",
    "#         store_split_meters['chilledwater_test'] = chilledwater_test\n",
    "#         store_split_meters['hotwater_test'] = hotwater_test\n",
    "#         store_split_meters['steam_test'] = steam_test\n",
    "#         del test_all\n"
   ]
  },
  {
   "cell_type": "code",
   "execution_count": null,
   "metadata": {},
   "outputs": [],
   "source": [
    "hotwater_train.isna().sum()"
   ]
  },
  {
   "cell_type": "markdown",
   "metadata": {},
   "source": [
    "### 2.2 Correlate features with meter reading for each building and meter type"
   ]
  },
  {
   "cell_type": "code",
   "execution_count": null,
   "metadata": {},
   "outputs": [],
   "source": [
    "CORRELATORS = ['air_temperature', 'cloud_coverage', 'dew_temperature','precip_depth_1_hr', 'sea_level_pressure',\n",
    "               'wind_direction','wind_speed', 'hour', 'weekday', 'month', 'is_weekend']\n",
    "def produce_correlation_df(train_df, y_variable='meter_reading', buildings=None,  correlators=CORRELATORS):\n",
    "    if buildings==None:\n",
    "        buildings = list(set(train_df.index.get_level_values('building_id')))\n",
    "    correlations_df = pd.DataFrame()\n",
    "    for building_id in buildings:\n",
    "        df =  train_df.loc[building_id] \n",
    "        correlations = df.corr()[y_variable]\n",
    "        correlations = correlations[correlators]\n",
    "        correlations_df[building_id] = correlations\n",
    "    correlations_df['mean'] = correlations_df.mean(axis=1)\n",
    "    correlations_df['st_dev'] = correlations_df.std(axis=1)\n",
    "    correlations_df = correlations_df.T\n",
    "    correlations_df.sort_values(by='mean', axis=1, ascending=False)\n",
    "    \n",
    "    return correlations_df\n",
    "\n",
    "def plot_correlation_distribution(correlations_df):\n",
    "    for variable in correlations_df.columns:\n",
    "        sns.distplot(list(correlations_df[variable].dropna()), label=variable)\n",
    "    plt.legend()\n",
    "    plt.show()\n",
    "\n",
    "def plot_correlation_values(correlations_df):\n",
    "    correlations_df.drop(['mean', 'st_dev'], axis=0).plot()\n",
    "    plt.show()\n",
    "    \n",
    "def explore_correlations(buildings_correlations):\n",
    "    \n",
    "    plot_correlation_values(buildings_correlations)\n",
    "    plot_correlation_distribution(buildings_correlations)\n",
    "    plot_correlation_distribution(buildings_correlations[['air_temperature', 'dew_temperature']])"
   ]
  },
  {
   "cell_type": "code",
   "execution_count": null,
   "metadata": {},
   "outputs": [],
   "source": [
    "# take a subset of the buildings to check \n",
    "building_subset = list(range(30))\n",
    "elec_train_subset = elec_train[elec_train.index.get_level_values('building_id').isin(building_subset)]\n",
    "elec_buildings_subset_correlations = produce_correlation_df(elec_train_subset, buildings=building_subset)"
   ]
  },
  {
   "cell_type": "code",
   "execution_count": null,
   "metadata": {},
   "outputs": [],
   "source": [
    "explore_correlations(elec_buildings_subset_correlations)"
   ]
  },
  {
   "cell_type": "code",
   "execution_count": null,
   "metadata": {},
   "outputs": [],
   "source": [
    "del building_subset, elec_train_subset, elec_buildings_subset_correlations"
   ]
  },
  {
   "cell_type": "markdown",
   "metadata": {},
   "source": [
    "#### Electric meters"
   ]
  },
  {
   "cell_type": "code",
   "execution_count": null,
   "metadata": {},
   "outputs": [],
   "source": [
    "elec_correlations = produce_correlation_df(elec_train)\n",
    "explore_correlations(elec_correlations)"
   ]
  },
  {
   "cell_type": "code",
   "execution_count": null,
   "metadata": {},
   "outputs": [],
   "source": [
    "elec_correlations"
   ]
  },
  {
   "cell_type": "markdown",
   "metadata": {},
   "source": [
    "#### Chilled water meters"
   ]
  },
  {
   "cell_type": "code",
   "execution_count": null,
   "metadata": {},
   "outputs": [],
   "source": [
    "chilledwater_correlations = produce_correlation_df(chilledwater_train)\n",
    "explore_correlations(chilledwater_correlations)"
   ]
  },
  {
   "cell_type": "code",
   "execution_count": null,
   "metadata": {},
   "outputs": [],
   "source": [
    "chilledwater_correlations"
   ]
  },
  {
   "cell_type": "markdown",
   "metadata": {},
   "source": [
    "#### Hot water meters"
   ]
  },
  {
   "cell_type": "code",
   "execution_count": null,
   "metadata": {},
   "outputs": [],
   "source": [
    "hotwater_correlations = produce_correlation_df(hotwater_train)\n",
    "explore_correlations(hotwater_correlations)"
   ]
  },
  {
   "cell_type": "code",
   "execution_count": null,
   "metadata": {},
   "outputs": [],
   "source": [
    "hotwater_correlations"
   ]
  },
  {
   "cell_type": "markdown",
   "metadata": {},
   "source": [
    "#### Steam meters"
   ]
  },
  {
   "cell_type": "code",
   "execution_count": null,
   "metadata": {},
   "outputs": [],
   "source": [
    "steam_correlations = produce_correlation_df(steam_train)\n",
    "explore_correlations(steam_correlations)"
   ]
  },
  {
   "cell_type": "code",
   "execution_count": null,
   "metadata": {},
   "outputs": [],
   "source": [
    "steam_correlations"
   ]
  },
  {
   "cell_type": "markdown",
   "metadata": {},
   "source": [
    "## 2.3 Integrate data over a week and look at impact of weather variables then (to take away time dependance)"
   ]
  },
  {
   "cell_type": "code",
   "execution_count": null,
   "metadata": {},
   "outputs": [],
   "source": [
    "WEEKLY_ATTRIBUTES = ['meter_reading','air_temperature', 'cloud_coverage', 'dew_temperature','precip_depth_1_hr',\n",
    "                     'sea_level_pressure', 'wind_direction','wind_speed', 'week_number', 'month']\n",
    "WEEKLY_CORRELATORS = ['air_temperature', 'cloud_coverage', 'dew_temperature','precip_depth_1_hr',\n",
    "                      'sea_level_pressure', 'wind_direction','wind_speed', 'month']"
   ]
  },
  {
   "cell_type": "code",
   "execution_count": null,
   "metadata": {},
   "outputs": [],
   "source": [
    "def produce_weekly_average_data(df, weekly_attributes=WEEKLY_ATTRIBUTES):\n",
    "    df_weekly_means = df[weekly_attributes].groupby(['building_id', 'week_number']).mean()\n",
    "    df_weekly_means['building_id'] = list(df_weekly_means.index.get_level_values('building_id'))\n",
    "    return df_weekly_means\n",
    "\n",
    "def produce_weekly_degree_hours(df, set_point_temp):\n",
    "    df_temp = df[['meter_reading','air_temperature','week_number']].copy()\n",
    "    df_temp['delta_temp'] = df_temp['air_temperature'] - set_point_temp\n",
    "    df_temp = df_temp.drop(columns='air_temperature')\n",
    "    df_weekly_dh = df_temp.groupby(['building_id', 'week_number']).sum()  \n",
    "    df_weekly_dh['building_id'] = list(df_weekly_dh.index.get_level_values('building_id'))\n",
    "    return df_weekly_dh\n",
    "    "
   ]
  },
  {
   "cell_type": "code",
   "execution_count": null,
   "metadata": {},
   "outputs": [],
   "source": [
    "set_point_C = 13"
   ]
  },
  {
   "cell_type": "markdown",
   "metadata": {},
   "source": [
    "#### Electric meters"
   ]
  },
  {
   "cell_type": "code",
   "execution_count": null,
   "metadata": {},
   "outputs": [],
   "source": [
    "elec_weekly_means_df = produce_weekly_average_data(elec_train)\n",
    "elec_weekly_means_corrs = produce_correlation_df(elec_weekly_means_df, correlators=WEEKLY_CORRELATORS)\n",
    "\n",
    "elec_weekly_dh_df = produce_weekly_degree_hours(elec_train, set_point_C )\n",
    "elec_weekly_dh_corrs = produce_correlation_df(elec_weekly_dh_df , correlators=['delta_temp'])\n",
    "\n",
    "explore_correlations(elec_weekly_means_corrs)\n",
    "plot_correlation_distribution(elec_weekly_dh_corrs )"
   ]
  },
  {
   "cell_type": "markdown",
   "metadata": {},
   "source": [
    "#### Chilled water meters"
   ]
  },
  {
   "cell_type": "code",
   "execution_count": null,
   "metadata": {},
   "outputs": [],
   "source": [
    "chilledwater_weekly_means_df = produce_weekly_average_data(chilledwater_train)\n",
    "chilledwater_weekly_means_corrs = produce_correlation_df(chilledwater_weekly_means_df ,\n",
    "                                                         correlators=WEEKLY_CORRELATORS)\n",
    "\n",
    "chilledwater_weekly_dh_df = produce_weekly_degree_hours(chilledwater_train, set_point_C )\n",
    "chilledwater_weekly_dh_corrs = produce_correlation_df(chilledwater_weekly_dh_df, correlators=['delta_temp'])\n",
    "\n",
    "explore_correlations(chilledwater_weekly_means_corrs)\n",
    "plot_correlation_distribution(chilledwater_weekly_dh_corrs )"
   ]
  },
  {
   "cell_type": "markdown",
   "metadata": {},
   "source": [
    "#### Hot water meters"
   ]
  },
  {
   "cell_type": "code",
   "execution_count": null,
   "metadata": {},
   "outputs": [],
   "source": [
    "hotwater_weekly_means_df = produce_weekly_average_data(hotwater_train)\n",
    "hotwater_weekly_means_corrs = produce_correlation_df(hotwater_weekly_means_df , correlators=WEEKLY_CORRELATORS)\n",
    "\n",
    "hotwater_weekly_dh_df = produce_weekly_degree_hours(hotwater_train, set_point_C )\n",
    "hotwater_weekly_dh_corrs = produce_correlation_df(hotwater_weekly_dh_df, correlators=['delta_temp'])\n",
    "\n",
    "explore_correlations(hotwater_weekly_means_corrs)\n",
    "plot_correlation_distribution(hotwater_weekly_dh_corrs )"
   ]
  },
  {
   "cell_type": "markdown",
   "metadata": {},
   "source": [
    "#### Steam meters"
   ]
  },
  {
   "cell_type": "code",
   "execution_count": null,
   "metadata": {},
   "outputs": [],
   "source": [
    "steam_weekly_means_df = produce_weekly_average_data(steam_train)\n",
    "steam_weekly_means_corrs = produce_correlation_df(steam_weekly_means_df , correlators=WEEKLY_CORRELATORS)\n",
    "\n",
    "steam_weekly_dh_df = produce_weekly_degree_hours(steam_train, set_point_C )\n",
    "steam_weekly_dh_corrs = produce_correlation_df(steam_weekly_dh_df, correlators=['delta_temp'])\n",
    "\n",
    "explore_correlations(steam_weekly_means_corrs)\n",
    "plot_correlation_distribution(steam_weekly_dh_corrs)"
   ]
  },
  {
   "cell_type": "markdown",
   "metadata": {},
   "source": [
    "## 2.4 Compare strength of different correlators"
   ]
  },
  {
   "cell_type": "code",
   "execution_count": null,
   "metadata": {},
   "outputs": [],
   "source": [
    "def compare_distributions(df_dict, variable_name_dict, title):\n",
    "    for df_name, df in df_dict.items():\n",
    "        sns.distplot(list(df[variable_name_dict[df_name]].dropna()), label=df_name)\n",
    "    plt.title(title)\n",
    "    plt.legend()\n",
    "    plt.show()\n"
   ]
  },
  {
   "cell_type": "code",
   "execution_count": null,
   "metadata": {
    "scrolled": false
   },
   "outputs": [],
   "source": [
    "variable_name_dict = {'weekly_mean_air_temp':'air_temperature',\n",
    "                      'weekly_degree_hours':'delta_temp',\n",
    "                      'hourly_air_temp':'air_temperature'}\n",
    "\n",
    "compare_distributions({'weekly_mean_air_temp':elec_weekly_means_corrs, \n",
    "                      'weekly_degree_hours':elec_weekly_dh_corrs,\n",
    "                      'hourly_air_temp':elec_correlations},\n",
    "                      variable_name_dict,\n",
    "                     'elec')\n",
    "\n",
    "compare_distributions({'weekly_mean_air_temp':chilledwater_weekly_means_corrs,\n",
    "                      'weekly_degree_hours':chilledwater_weekly_dh_corrs,\n",
    "                      'hourly_air_temp':chilledwater_correlations},\n",
    "                     variable_name_dict, 'chilledwater')\n",
    "\n",
    "compare_distributions({'weekly_mean_air_temp':hotwater_weekly_means_corrs,\n",
    "                      'weekly_degree_hours':hotwater_weekly_dh_corrs,\n",
    "                      'hourly_air_temp':hotwater_correlations},\n",
    "                     variable_name_dict, 'hotwater')\n",
    "\n",
    "compare_distributions({'weekly_mean_air_temp':steam_weekly_means_corrs,\n",
    "                      'weekly_degree_hours':steam_weekly_dh_corrs,\n",
    "                      'hourly_air_temp':steam_correlations},\n",
    "                     variable_name_dict,\n",
    "                     'steam')"
   ]
  },
  {
   "cell_type": "markdown",
   "metadata": {},
   "source": [
    "# 3. Linear regression model based on air temperature only"
   ]
  },
  {
   "cell_type": "markdown",
   "metadata": {},
   "source": [
    "Assume that form of equation is meter_reading = A.T(t) + B + f(t) where B = A.T_setpoint. <br>"
   ]
  },
  {
   "cell_type": "code",
   "execution_count": null,
   "metadata": {},
   "outputs": [],
   "source": [
    "def fit_linear_regression_to_air_temp_data(df):\n",
    "    \n",
    "    building_ids = list(set(df.index.get_level_values('building_id')))\n",
    "    df_results = pd.DataFrame(index=building_ids, columns = ['r_sq', 'intercept', 'temp_coef', 'set_point_temp'])\n",
    "    df_results.index.rename('building_id', inplace=True)\n",
    "    \n",
    "    for building_id in building_ids:\n",
    "        building_df = df.loc[building_id]\n",
    "        y=building_df['meter_reading'].to_numpy()\n",
    "        x=building_df['air_temperature'].to_numpy().reshape(-1, 1)\n",
    "        imp_mean = SimpleImputer(missing_values=np.nan, strategy='mean')\n",
    "        x=imp_mean.fit_transform(x)\n",
    "        model=LinearRegression(n_jobs=-1).fit(x,y)\n",
    "        r_sq = model.score(x, y)\n",
    "        df_results.loc[building_id, 'r_sq'] = r_sq\n",
    "        df_results.loc[building_id, 'intercept'] = model.intercept_\n",
    "        df_results.loc[building_id, 'temp_coef'] = model.coef_[0]\n",
    "        df_results.loc[building_id, 'set_point_temp'] = -model.intercept_/model.coef_[0]\n",
    "        \n",
    "    for col in list(df_results):\n",
    "        df_results[col] = pd.to_numeric(df_results[col])\n",
    "        \n",
    "    return df_results"
   ]
  },
  {
   "cell_type": "code",
   "execution_count": null,
   "metadata": {},
   "outputs": [],
   "source": [
    "#alternative where you throw away weeks that have 0 average meter reading for that week - save that week number"
   ]
  },
  {
   "cell_type": "code",
   "execution_count": null,
   "metadata": {},
   "outputs": [],
   "source": []
  },
  {
   "cell_type": "markdown",
   "metadata": {},
   "source": [
    "## 3.1 Air temperature - weekly averages\n",
    "\n",
    "Integrate out the time dependancy by looking at entire weeks"
   ]
  },
  {
   "cell_type": "markdown",
   "metadata": {},
   "source": [
    "Start by just fitting a from weekly_meter_reading = A.T_mean + B"
   ]
  },
  {
   "cell_type": "code",
   "execution_count": null,
   "metadata": {},
   "outputs": [],
   "source": [
    "building_df = steam_weekly_means_df.loc[745]\n",
    "y=building_df['meter_reading'].to_numpy()\n",
    "x=building_df['air_temperature'].to_numpy()\n",
    "plt.xlabel('air temp')\n",
    "plt.ylabel('meter reading')\n",
    "plt.scatter(x,y)\n",
    "plt.show()"
   ]
  },
  {
   "cell_type": "code",
   "execution_count": null,
   "metadata": {},
   "outputs": [],
   "source": [
    "building_df = steam_weekly_means_df.loc[1442]\n",
    "y=building_df['meter_reading'].to_numpy()\n",
    "x=building_df['air_temperature'].to_numpy()\n",
    "plt.xlabel('air temp')\n",
    "plt.ylabel('meter reading')\n",
    "plt.scatter(x,y)\n",
    "plt.show()"
   ]
  },
  {
   "cell_type": "markdown",
   "metadata": {},
   "source": [
    "### 3.1.1 Fit model"
   ]
  },
  {
   "cell_type": "code",
   "execution_count": null,
   "metadata": {},
   "outputs": [],
   "source": [
    "df_steam_weekly_results = fit_linear_regression_to_air_temp_data(steam_weekly_means_df)\n",
    "df_chilledwater_weekly_results = fit_linear_regression_to_air_temp_data(chilledwater_weekly_means_df)\n",
    "df_hotwater_weekly_results = fit_linear_regression_to_air_temp_data(hotwater_weekly_means_df)\n",
    "df_elec_weekly_results = fit_linear_regression_to_air_temp_data(elec_weekly_means_df) "
   ]
  },
  {
   "cell_type": "code",
   "execution_count": null,
   "metadata": {},
   "outputs": [],
   "source": [
    "#stick them all together for use later\n",
    "df_elec_weekly_results['meter'] = 0\n",
    "df_chilledwater_weekly_results['meter'] = 1\n",
    "df_steam_weekly_results['meter'] = 2\n",
    "df_hotwater_weekly_results['meter'] = 3\n",
    "\n",
    "\n",
    "df_weekly_results = pd.concat([df_elec_weekly_results, df_chilledwater_weekly_results,\n",
    "           df_hotwater_weekly_results, df_steam_weekly_results])"
   ]
  },
  {
   "cell_type": "code",
   "execution_count": null,
   "metadata": {},
   "outputs": [],
   "source": [
    "METERS_NUMBER_NAME = {0: 'elec', 1: 'chilledwater', 2: 'steam', 3: 'hotwater'}\n",
    "def compare_variables_in_df_between_meters(df, variables, meters_number_name = METERS_NUMBER_NAME):\n",
    "    for variable in variables:\n",
    "        variable_name_dict = {}\n",
    "        df_dict = {}\n",
    "        for meter_no, meter_name in meters_number_name.items():\n",
    "            variable_name_dict[meter_name] = variable\n",
    "            df_dict[meter_name] = df[df.meter == meter_no]\n",
    "        #print(variable_name_dict)\n",
    "        #print(df_dict)\n",
    "        compare_distributions(df_dict, variable_name_dict, variable)"
   ]
  },
  {
   "cell_type": "code",
   "execution_count": null,
   "metadata": {},
   "outputs": [],
   "source": [
    "compare_variables_in_df_between_meters(df_weekly_results, ['r_sq', 'temp_coef', 'set_point_temp'])"
   ]
  },
  {
   "cell_type": "code",
   "execution_count": null,
   "metadata": {},
   "outputs": [],
   "source": [
    "# so there are some very non-physical results for temp coef and set point temp in the steam data set\n",
    "#and the ? elec? dataset.Plot seperately to be sure which datasets have odd results"
   ]
  },
  {
   "cell_type": "code",
   "execution_count": null,
   "metadata": {},
   "outputs": [],
   "source": [
    "compare_variables_in_df_between_meters(df_weekly_results, ['r_sq', 'temp_coef', 'set_point_temp'],\n",
    "                                      meters_number_name={0: 'elec'})"
   ]
  },
  {
   "cell_type": "code",
   "execution_count": null,
   "metadata": {},
   "outputs": [],
   "source": [
    "compare_variables_in_df_between_meters(df_weekly_results, ['r_sq', 'temp_coef', 'set_point_temp'],\n",
    "                                      meters_number_name={1: 'chilledwater'})"
   ]
  },
  {
   "cell_type": "code",
   "execution_count": null,
   "metadata": {},
   "outputs": [],
   "source": [
    "compare_variables_in_df_between_meters(df_weekly_results, ['r_sq', 'temp_coef', 'set_point_temp'],\n",
    "                                      meters_number_name={1: 'hotwater'})"
   ]
  },
  {
   "cell_type": "code",
   "execution_count": null,
   "metadata": {},
   "outputs": [],
   "source": [
    "compare_variables_in_df_between_meters(df_weekly_results, ['r_sq', 'temp_coef', 'set_point_temp'],\n",
    "                                      meters_number_name={2: 'steam'})"
   ]
  },
  {
   "cell_type": "code",
   "execution_count": null,
   "metadata": {},
   "outputs": [],
   "source": [
    "for meter_no, meter_name in METERS_NUMBER_NAME.items():\n",
    "    df_to_plot = df_weekly_results[df_weekly_results.meter == meter_no]\n",
    "    plt.scatter(df_to_plot.index, df_to_plot.temp_coef)\n",
    "    plt.title(meter_name + \" temp coeff\")\n",
    "    plt.show()\n",
    "    plt.scatter(df_to_plot.index, df_to_plot.set_point_temp)\n",
    "    plt.title(meter_name + \" set point temp\")\n",
    "    plt.show()\n",
    "    "
   ]
  },
  {
   "cell_type": "code",
   "execution_count": null,
   "metadata": {},
   "outputs": [],
   "source": [
    "# All have some very unphysical values in there. Leave for now but maybe address later"
   ]
  },
  {
   "cell_type": "code",
   "execution_count": null,
   "metadata": {},
   "outputs": [],
   "source": [
    "chilledwater_weekly_means_df[chilledwater_weekly_means_df.meter_reading < 1]"
   ]
  },
  {
   "cell_type": "code",
   "execution_count": null,
   "metadata": {},
   "outputs": [],
   "source": [
    "elec_weekly_means_df[elec_weekly_means_df.meter_reading < 1]"
   ]
  },
  {
   "cell_type": "code",
   "execution_count": null,
   "metadata": {},
   "outputs": [],
   "source": [
    "buildings_no_elec_week = set(elec_weekly_means_df.building_id[elec_weekly_means_df.meter_reading < 1])"
   ]
  },
  {
   "cell_type": "code",
   "execution_count": null,
   "metadata": {},
   "outputs": [],
   "source": [
    "steam_weekly_means_df[steam_weekly_means_df.meter_reading < 1]"
   ]
  },
  {
   "cell_type": "code",
   "execution_count": null,
   "metadata": {},
   "outputs": [],
   "source": [
    "hotwater_weekly_means_df[hotwater_weekly_means_df.meter_reading < 1]"
   ]
  },
  {
   "cell_type": "code",
   "execution_count": null,
   "metadata": {},
   "outputs": [],
   "source": [
    "hotwater_weekly_means_df"
   ]
  },
  {
   "cell_type": "code",
   "execution_count": null,
   "metadata": {},
   "outputs": [],
   "source": []
  },
  {
   "cell_type": "markdown",
   "metadata": {},
   "source": [
    "### 3.1.2 Compare R squared values from weekly averages between building primary uses"
   ]
  },
  {
   "cell_type": "code",
   "execution_count": null,
   "metadata": {},
   "outputs": [],
   "source": [
    "#add data on building primary use to explore impact\n",
    "df_elec_weekly_results_buildtype = df_elec_weekly_results.join(building['primary_use'])\n",
    "df_steam_weekly_results_buildtype = df_steam_weekly_results.join(building['primary_use'])\n",
    "df_chilledwater_weekly_results_buildtype = df_chilledwater_weekly_results.join(building['primary_use'])\n",
    "df_hotwater_weekly_results_buildtype = df_hotwater_weekly_results.join(building['primary_use'])"
   ]
  },
  {
   "cell_type": "code",
   "execution_count": null,
   "metadata": {},
   "outputs": [],
   "source": [
    "def compare_building_uses(df, building, variable, title):\n",
    "    for use in set(building['primary_use']):\n",
    "        sns.distplot(list(df[df['primary_use']==use][variable].dropna()), label=use)\n",
    "        plt.title(title)\n",
    "        # Put the legend out of the figure\n",
    "        plt.legend(bbox_to_anchor=(1.05, 1), loc=2, borderaxespad=0.)\n",
    "    plt.show()"
   ]
  },
  {
   "cell_type": "code",
   "execution_count": null,
   "metadata": {},
   "outputs": [],
   "source": [
    "compare_building_uses(df_elec_weekly_results_buildtype, building, 'r_sq',\n",
    "                      \"Electric meter - comparison of Rsq between building types\")\n",
    "compare_building_uses(df_chilledwater_weekly_results_buildtype, building,'r_sq',\n",
    "                      \"Chilled Water meter - comparison of Rsq between building types\")\n",
    "compare_building_uses(df_steam_weekly_results_buildtype, building, 'r_sq',\n",
    "                      \"Steam meter - comparison of Rsq between building types\")\n",
    "compare_building_uses(df_hotwater_weekly_results_buildtype, building,'r_sq',\n",
    "                      \"Hot water meter - comparison of R-sq between building types\")"
   ]
  },
  {
   "cell_type": "code",
   "execution_count": null,
   "metadata": {},
   "outputs": [],
   "source": [
    "del df_elec_weekly_results_buildtype, df_steam_weekly_results_buildtype\n",
    "del df_chilledwater_weekly_results_buildtype\n",
    "del df_hotwater_weekly_results_buildtype "
   ]
  },
  {
   "cell_type": "markdown",
   "metadata": {},
   "source": [
    "### 3.1.3 Apply coefficients to hourly dataset"
   ]
  },
  {
   "cell_type": "code",
   "execution_count": null,
   "metadata": {},
   "outputs": [],
   "source": [
    "def add_temp_based_predictions(df, df_lin_reg_results):\n",
    "    \n",
    "    df = df.reset_index()\n",
    "    df_lin_reg_results = df_lin_reg_results[['r_sq', 'temp_coef', 'intercept',\n",
    "                                             'set_point_temp', 'meter']].reset_index()\n",
    "    df = df.merge(df_lin_reg_results, how='left', on=['building_id', 'meter'])\n",
    "    df = df.set_index(['building_id', 'timestamp'])\n",
    "    \n",
    "    df['temp_based_prediction'] = df['temp_coef'] * df['air_temperature'] + df['intercept']\n",
    "    \n",
    "    # remove sub-zero predictions\n",
    "    df['temp_based_prediction'].loc[:,df['temp_based_prediction'] < 0] = 0\n",
    "    \n",
    "    if 'meter_reading' in df.columns:\n",
    "        df['residual'] = df['meter_reading'] - df['temp_based_prediction']\n",
    "        df['squared_log_error'] = (np.log(df['temp_based_prediction'] + 1) - np.log(df['meter_reading'] + 1))**2\n",
    "    return df"
   ]
  },
  {
   "cell_type": "code",
   "execution_count": null,
   "metadata": {},
   "outputs": [],
   "source": [
    "elec_train_weekly_temp_preds = add_temp_based_predictions(elec_train, df_elec_weekly_results)\n",
    "chilledwater_train_weekly_temp_preds = add_temp_based_predictions(chilledwater_train,\n",
    "                                                                  df_chilledwater_weekly_results)\n",
    "hotwater_train_weekly_temp_preds = add_temp_based_predictions(hotwater_train, df_hotwater_weekly_results)\n",
    "steam_train_weekly_temp_preds = add_temp_based_predictions(steam_train, df_steam_weekly_results)"
   ]
  },
  {
   "cell_type": "code",
   "execution_count": null,
   "metadata": {},
   "outputs": [],
   "source": [
    "hotwater_train_weekly_temp_preds"
   ]
  },
  {
   "cell_type": "code",
   "execution_count": null,
   "metadata": {},
   "outputs": [],
   "source": [
    "hotwater_train_weekly_temp_preds.loc[1331,'meter_reading'].plot()"
   ]
  },
  {
   "cell_type": "code",
   "execution_count": null,
   "metadata": {},
   "outputs": [],
   "source": [
    "hotwater_train_weekly_temp_preds.loc[1331,'temp_based_prediction'].plot()"
   ]
  },
  {
   "cell_type": "code",
   "execution_count": null,
   "metadata": {},
   "outputs": [],
   "source": [
    "hotwater_train_weekly_temp_preds.loc[106,'meter_reading'].plot()"
   ]
  },
  {
   "cell_type": "code",
   "execution_count": null,
   "metadata": {},
   "outputs": [],
   "source": [
    "hotwater_train_weekly_temp_preds.loc[106,'temp_based_prediction'].plot()"
   ]
  },
  {
   "cell_type": "markdown",
   "metadata": {},
   "source": [
    "Heating gets turned off in the summer. This impact is making the linear fit insufficiently sensitive to temperature for the rest of the year. Try to account for this before doing linear fit? TODO"
   ]
  },
  {
   "cell_type": "code",
   "execution_count": null,
   "metadata": {},
   "outputs": [],
   "source": [
    "# look for weeks with zero values\n"
   ]
  },
  {
   "cell_type": "code",
   "execution_count": null,
   "metadata": {},
   "outputs": [],
   "source": [
    "def plot_timeseries(df, variable, building_id, timestamp_start=None, timestamp_end=None, title=\"\"):\n",
    "    \n",
    "    df = df.loc[building_id]\n",
    "    y2=df.loc[slice(timestamp_start, timestamp_end),variable].to_numpy()\n",
    "    x2=df.loc[slice(timestamp_start, timestamp_end)].index.get_level_values('timestamp').to_numpy()\n",
    "    plt.xlabel('timestamp')\n",
    "    plt.ylabel(variable)\n",
    "    plt.scatter(x2,y2)\n",
    "    plt.title(title)\n",
    "    plt.show()\n",
    "    "
   ]
  },
  {
   "cell_type": "code",
   "execution_count": null,
   "metadata": {
    "scrolled": true
   },
   "outputs": [],
   "source": [
    "# plot the squared_log_error for a few dfs\n",
    "plot_timeseries(elec_train_weekly_temp_preds, 'squared_log_error', 745, title='elec')\n",
    "plot_timeseries(chilledwater_train_weekly_temp_preds, 'squared_log_error', 745, title='chilled water')\n",
    "plot_timeseries(hotwater_train_weekly_temp_preds, 'squared_log_error', 106, title='hotwater')\n",
    "plot_timeseries(steam_train_weekly_temp_preds, 'squared_log_error', 745, title='steam')\n",
    "\n",
    "plot_timeseries(steam_train_weekly_temp_preds, 'squared_log_error', 1442, title='steam - building 1442')   \n",
    "plot_timeseries(steam_train_weekly_temp_preds, 'squared_log_error', 1442, title='steam - building 1442 zoomed in',\n",
    "                timestamp_start='2016-01-01 00:00:00',\n",
    "                timestamp_end='2016-01-03 00:00:00') # not working nicely...\n"
   ]
  },
  {
   "cell_type": "code",
   "execution_count": null,
   "metadata": {},
   "outputs": [],
   "source": [
    "#suprisingly - elec data looks the best in many ways. How can this be when temp a poor correlator?\n",
    "#hot water increases in the summer and decreases in the winter - add cut off temp?\n",
    "# perhaps just because some very odd/erroneous values in the other datasets? Maybe the 0 values?"
   ]
  },
  {
   "cell_type": "code",
   "execution_count": null,
   "metadata": {},
   "outputs": [],
   "source": [
    "#plot the distribution of the log squared errors\n",
    "def compare_distributions(df_dict, variable_name_dict, title):\n",
    "    for df_name, df in df_dict.items():\n",
    "        sns.distplot(list(df[variable_name_dict[df_name]].dropna()), label=df_name)\n",
    "    plt.title(title)\n",
    "    plt.legend()\n",
    "    plt.show()\n",
    "    \n",
    "variable_name_dict = {'elec': 'squared_log_error',\n",
    "                      'chilledwater':'squared_log_error',\n",
    "                      'hotwater':'squared_log_error', \n",
    "                      'steam':'squared_log_error'}\n",
    "\n",
    "df_dict_compare_errors = {'elec': elec_train_weekly_temp_preds,\n",
    "                             'chilledwater': chilledwater_train_weekly_temp_preds,\n",
    "                             'hotwater':hotwater_train_weekly_temp_preds,\n",
    "                             'steam': steam_train_weekly_temp_preds}\n",
    "\n",
    "compare_distributions(df_dict_compare_errors ,\n",
    "                      variable_name_dict,\n",
    "                     'Comparing residual/actual for electricity, chilled water, hotwater and steam')    "
   ]
  },
  {
   "cell_type": "code",
   "execution_count": null,
   "metadata": {},
   "outputs": [],
   "source": [
    "#some issues with huge erros in the steam and chilled water datasets - need to find them"
   ]
  },
  {
   "cell_type": "code",
   "execution_count": null,
   "metadata": {},
   "outputs": [],
   "source": [
    "steam_train_weekly_temp_preds"
   ]
  },
  {
   "cell_type": "markdown",
   "metadata": {},
   "source": [
    "### 3.1.4 Evaluate performance of simple linear regression based on weekly averages"
   ]
  },
  {
   "cell_type": "code",
   "execution_count": null,
   "metadata": {},
   "outputs": [],
   "source": [
    "def extract_predictions(df, column_header):\n",
    "    predictions = df[column_header].to_numpy()\n",
    "    predictions[predictions < 0] = 0\n",
    "    return predictions"
   ]
  },
  {
   "cell_type": "code",
   "execution_count": null,
   "metadata": {},
   "outputs": [],
   "source": [
    "#elec\n",
    "elec_predictions = extract_predictions(elec_train_weekly_temp_preds,'temp_based_prediction')\n",
    "elec_actuals = elec_train_weekly_temp_preds['meter_reading'].to_numpy()\n",
    "calculate_RMSLE_score(elec_predictions, elec_actuals)"
   ]
  },
  {
   "cell_type": "code",
   "execution_count": null,
   "metadata": {},
   "outputs": [],
   "source": [
    "#chilledwater\n",
    "chilledwater_predictions = extract_predictions(chilledwater_train_weekly_temp_preds,'temp_based_prediction')\n",
    "chilledwater_actuals = chilledwater_train_weekly_temp_preds['meter_reading'].to_numpy()\n",
    "calculate_RMSLE_score(chilledwater_predictions, chilledwater_actuals)"
   ]
  },
  {
   "cell_type": "code",
   "execution_count": null,
   "metadata": {},
   "outputs": [],
   "source": [
    "#hotwater\n",
    "hotwater_predictions = extract_predictions(hotwater_train_weekly_temp_preds,'temp_based_prediction')\n",
    "hotwater_actuals = hotwater_train_weekly_temp_preds['meter_reading'].to_numpy()\n",
    "calculate_RMSLE_score(hotwater_predictions, hotwater_actuals)"
   ]
  },
  {
   "cell_type": "code",
   "execution_count": null,
   "metadata": {},
   "outputs": [],
   "source": [
    "#steam\n",
    "steam_predictions = extract_predictions(steam_train_weekly_temp_preds,'temp_based_prediction')\n",
    "steam_actuals = steam_train_weekly_temp_preds['meter_reading'].to_numpy()\n",
    "calculate_RMSLE_score(steam_predictions, steam_actuals)"
   ]
  },
  {
   "cell_type": "code",
   "execution_count": null,
   "metadata": {},
   "outputs": [],
   "source": [
    "# all together\n",
    "predictions = np.concatenate([elec_predictions, chilledwater_predictions,hotwater_predictions, steam_predictions])\n",
    "actuals = np.concatenate([elec_actuals, chilledwater_actuals,hotwater_actuals, steam_actuals])\n",
    "calculate_RMSLE_score(predictions, actuals)"
   ]
  },
  {
   "cell_type": "markdown",
   "metadata": {},
   "source": [
    "### 3.1.5 Produce a set of predictions on the test set based on this weekly average temperature model"
   ]
  },
  {
   "cell_type": "code",
   "execution_count": null,
   "metadata": {},
   "outputs": [],
   "source": [
    "def add_weather_variables_to_test_df(test, building, weather, weather_variables):\n",
    "    \n",
    "    # add site id to test data\n",
    "    building_site_id = building[['site_id','building_id']].set_index('building_id').to_dict()['site_id']\n",
    "    test_with_site_id = test.copy()\n",
    "    test_with_site_id['site_id'] = test_with_site_id['building_id'].map(building_site_id )\n",
    "    \n",
    "    # add required weather variables to test data\n",
    "    required_weather = weather[['site_id', 'timestamp'] + weather_variables]\n",
    "    all_df = test_with_site_id.merge(required_weather, on = ['site_id', 'timestamp'], how='left')\n",
    "    \n",
    "    #multi index on building id and timestamp to match previous format\n",
    "    all_df = all_df.set_index(['building_id', 'timestamp']).sort_index()\n",
    "    \n",
    "    return all_df"
   ]
  },
  {
   "cell_type": "code",
   "execution_count": null,
   "metadata": {},
   "outputs": [],
   "source": [
    "test_with_air_temp = add_weather_variables_to_test_df(test, building, weather_test, ['air_temperature'])"
   ]
  },
  {
   "cell_type": "code",
   "execution_count": null,
   "metadata": {},
   "outputs": [],
   "source": [
    "# very slow\n",
    "test_weekly_temp_preds = add_temp_based_predictions(test_with_air_temp, df_weekly_results)"
   ]
  },
  {
   "cell_type": "code",
   "execution_count": null,
   "metadata": {},
   "outputs": [],
   "source": [
    "test_with_air_temp"
   ]
  },
  {
   "cell_type": "code",
   "execution_count": null,
   "metadata": {},
   "outputs": [],
   "source": [
    "test_weekly_temp_preds"
   ]
  },
  {
   "cell_type": "code",
   "execution_count": null,
   "metadata": {},
   "outputs": [],
   "source": [
    "predictions = test_weekly_temp_preds[['row_id', 'temp_based_prediction']].copy()\n",
    "predictions = predictions.reset_index()[['row_id', 'temp_based_prediction']]\n",
    "predictions = predictions.set_index('row_id')\n",
    "predictions = predictions.rename(columns = {'temp_based_prediction':'meter_reading'})\n",
    "predictions = predictions.sort_index(0)"
   ]
  },
  {
   "cell_type": "code",
   "execution_count": null,
   "metadata": {},
   "outputs": [],
   "source": [
    "predictions"
   ]
  },
  {
   "cell_type": "code",
   "execution_count": null,
   "metadata": {},
   "outputs": [],
   "source": [
    "#predictions.to_csv('weekly_temp_means_submission.csv')"
   ]
  },
  {
   "cell_type": "code",
   "execution_count": null,
   "metadata": {},
   "outputs": [],
   "source": [
    "len(predictions)"
   ]
  },
  {
   "cell_type": "markdown",
   "metadata": {},
   "source": [
    "### 3.1.6 Look at what correlates with the residuals"
   ]
  },
  {
   "cell_type": "code",
   "execution_count": null,
   "metadata": {},
   "outputs": [],
   "source": [
    "elec_residuals_corr = produce_correlation_df(elec_train_weekly_temp_preds, y_variable='residual')\n",
    "hotwater_residuals_corr = produce_correlation_df(hotwater_train_weekly_temp_preds, y_variable='residual')\n",
    "chilledwater_residuals_corr = produce_correlation_df(chilledwater_train_weekly_temp_preds, y_variable='residual')\n",
    "steam_residuals_corr = produce_correlation_df(steam_train_weekly_temp_preds, y_variable='residual')"
   ]
  },
  {
   "cell_type": "code",
   "execution_count": null,
   "metadata": {},
   "outputs": [],
   "source": [
    "explore_correlations(elec_residuals_corr)"
   ]
  },
  {
   "cell_type": "code",
   "execution_count": null,
   "metadata": {},
   "outputs": [],
   "source": [
    "explore_correlations(chilledwater_residuals_corr)"
   ]
  },
  {
   "cell_type": "code",
   "execution_count": null,
   "metadata": {},
   "outputs": [],
   "source": [
    "explore_correlations(hotwater_residuals_corr)"
   ]
  },
  {
   "cell_type": "code",
   "execution_count": null,
   "metadata": {},
   "outputs": [],
   "source": [
    "explore_correlations(steam_residuals_corr)"
   ]
  },
  {
   "cell_type": "code",
   "execution_count": null,
   "metadata": {},
   "outputs": [],
   "source": [
    "# Hmm - why is there any signal left in air temp? I suppose the temperature dependance is not independant of time.\n",
    "# Perhaps because the set point temperature changes with time\n",
    "# Time seems important. As a dump option, try and just add the whole residual back onto the test set?\n"
   ]
  },
  {
   "cell_type": "markdown",
   "metadata": {},
   "source": [
    "### 3.1.7 Add residuals back in to temp based predictions \n",
    "\n",
    "This will obviously give perfect results here but worth a submission attempt in case it works well\n",
    "Won't deal with the variation in set point temperature well but should do an ok job with the other time dependance"
   ]
  },
  {
   "cell_type": "code",
   "execution_count": null,
   "metadata": {},
   "outputs": [],
   "source": [
    "elec_resids = elec_train_weekly_temp_preds[['meter', 'residual']]\n",
    "hotwater_resids = hotwater_train_weekly_temp_preds[['meter', 'residual']]\n",
    "steam_resids = steam_train_weekly_temp_preds[['meter', 'residual']]\n",
    "chilledwater_resids = chilledwater_train_weekly_temp_preds[['meter', 'residual']]"
   ]
  },
  {
   "cell_type": "code",
   "execution_count": null,
   "metadata": {},
   "outputs": [],
   "source": [
    "all_resids = elec_resids.append([hotwater_resids, steam_resids, chilledwater_resids ])"
   ]
  },
  {
   "cell_type": "code",
   "execution_count": null,
   "metadata": {},
   "outputs": [],
   "source": [
    "all_resids"
   ]
  },
  {
   "cell_type": "code",
   "execution_count": null,
   "metadata": {},
   "outputs": [],
   "source": []
  },
  {
   "cell_type": "code",
   "execution_count": null,
   "metadata": {},
   "outputs": [],
   "source": [
    "test_weekly_temp_preds"
   ]
  },
  {
   "cell_type": "code",
   "execution_count": null,
   "metadata": {},
   "outputs": [],
   "source": []
  },
  {
   "cell_type": "markdown",
   "metadata": {},
   "source": [
    "## 3.2 Air temperaure - hourly data"
   ]
  },
  {
   "cell_type": "code",
   "execution_count": null,
   "metadata": {},
   "outputs": [],
   "source": []
  },
  {
   "cell_type": "markdown",
   "metadata": {},
   "source": [
    "### 3.2.1 Fit to hourly data"
   ]
  },
  {
   "cell_type": "code",
   "execution_count": null,
   "metadata": {},
   "outputs": [],
   "source": [
    "df_steam_hourly_results = fit_linear_regression_to_air_temp_data(steam_train)\n",
    "df_chilledwater_hourly_results = fit_linear_regression_to_air_temp_data(chilledwater_train)\n",
    "df_hotwater_hourly_results = fit_linear_regression_to_air_temp_data(hotwater_train)\n",
    "df_elec_hourly_results = fit_linear_regression_to_air_temp_data(elec_train) "
   ]
  },
  {
   "cell_type": "code",
   "execution_count": null,
   "metadata": {},
   "outputs": [],
   "source": [
    "#add meter numbers (this is kinda silly - should just keep them in earlier)\n",
    "df_elec_hourly_results['meter'] = 0\n",
    "df_chilledwater_hourly_results['meter'] = 1\n",
    "df_steam_hourly_results['meter'] = 2\n",
    "df_hotwater_hourly_results['meter'] = 3"
   ]
  },
  {
   "cell_type": "code",
   "execution_count": null,
   "metadata": {},
   "outputs": [],
   "source": [
    "variable_name_dict = {'steam':'r_sq',\n",
    "                      'hotwater':'r_sq',\n",
    "                      'chilledwater':'r_sq',\n",
    "                      'elec':'r_sq'}\n",
    "\n",
    "compare_distributions({'steam':df_steam_weekly_results,\n",
    "                      'hotwater': df_hotwater_weekly_results,\n",
    "                      'chilledwater':df_chilledwater_weekly_results,\n",
    "                      'elec': df_elec_weekly_results},\n",
    "                      variable_name_dict,\n",
    "                      'r_sq - based on weekly means')\n",
    "\n",
    "compare_distributions({'steam':df_steam_hourly_results,\n",
    "                      'hotwater': df_hotwater_hourly_results,\n",
    "                      'chilledwater':df_chilledwater_hourly_results,\n",
    "                      'elec': df_elec_hourly_results},\n",
    "                      variable_name_dict,\n",
    "                      'r_sq - based on hourly data')"
   ]
  },
  {
   "cell_type": "markdown",
   "metadata": {},
   "source": [
    "### 3.2.3 Evaluate performance of simple linear regression based on hourly temp data"
   ]
  },
  {
   "cell_type": "code",
   "execution_count": null,
   "metadata": {},
   "outputs": [],
   "source": [
    "elec_train_hourly_temp_preds = add_temp_based_predictions(elec_train, df_elec_hourly_results)\n",
    "chilledwater_train_hourly_temp_preds = add_temp_based_predictions(chilledwater_train,\n",
    "                                                                  df_chilledwater_hourly_results)\n",
    "hotwater_train_hourly_temp_preds = add_temp_based_predictions(hotwater_train, df_hotwater_hourly_results)\n",
    "steam_train_hourly_temp_preds = add_temp_based_predictions(steam_train, df_steam_hourly_results)"
   ]
  },
  {
   "cell_type": "code",
   "execution_count": null,
   "metadata": {},
   "outputs": [],
   "source": [
    "elec_predictions = extract_predictions(elec_train_hourly_temp_preds,'temp_based_prediction')\n",
    "elec_actuals = elec_train_hourly_temp_preds['meter_reading'].to_numpy()\n",
    "calculate_RMSLE_score(elec_predictions, elec_actuals)"
   ]
  },
  {
   "cell_type": "code",
   "execution_count": null,
   "metadata": {},
   "outputs": [],
   "source": [
    "chilledwater_predictions = extract_predictions(chilledwater_train_hourly_temp_preds,'temp_based_prediction')\n",
    "chilledwater_actuals = chilledwater_train_hourly_temp_preds['meter_reading'].to_numpy()\n",
    "calculate_RMSLE_score(chilledwater_predictions, chilledwater_actuals)"
   ]
  },
  {
   "cell_type": "code",
   "execution_count": null,
   "metadata": {},
   "outputs": [],
   "source": [
    "hotwater_predictions = extract_predictions(hotwater_train_hourly_temp_preds,'temp_based_prediction')\n",
    "hotwater_actuals = hotwater_train_hourly_temp_preds['meter_reading'].to_numpy()\n",
    "calculate_RMSLE_score(hotwater_predictions, hotwater_actuals)"
   ]
  },
  {
   "cell_type": "code",
   "execution_count": null,
   "metadata": {},
   "outputs": [],
   "source": [
    "steam_predictions = extract_predictions(steam_train_hourly_temp_preds,'temp_based_prediction')\n",
    "steam_actuals = steam_train_hourly_temp_preds['meter_reading'].to_numpy()\n",
    "calculate_RMSLE_score(steam_predictions, steam_actuals)"
   ]
  },
  {
   "cell_type": "code",
   "execution_count": null,
   "metadata": {},
   "outputs": [],
   "source": [
    "# all together\n",
    "predictions = np.concatenate([elec_predictions, chilledwater_predictions,hotwater_predictions, steam_predictions])\n",
    "actuals = np.concatenate([elec_actuals, chilledwater_actuals,hotwater_actuals, steam_actuals])\n",
    "calculate_RMSLE_score(predictions, actuals)"
   ]
  },
  {
   "cell_type": "code",
   "execution_count": null,
   "metadata": {},
   "outputs": [],
   "source": [
    "# so the hourly model actually does better. Perhaps because it intrinsically deals with some time dependance?"
   ]
  },
  {
   "cell_type": "markdown",
   "metadata": {},
   "source": [
    "# Learnings\n",
    "\n",
    "- Weather data is for 1 year - 2016\n",
    "- Their are 16 sites we have weather data for\n",
    "- Temperature data is good - no missing values. Other weather data less so. \n",
    "- Weather data and meter data is missing some hours of the year. Meter data has all hours that weather data has\n",
    "- No clear pattern to where data is missing\n",
    "<br/>\n",
    "\n",
    "- There can be multiple meters per building\n",
    "- We need to learn seperate models for each meter. It may be hard to generalise learnings for the same building. \n",
    "- We need to predict meter readings hourly\n",
    "<br/>\n",
    "\n",
    "- Weekly mean air temperature strongly and consistently correlates with mean meter reading for all meaters apart from electricity \n",
    "- Weekly degree hours also strongly correlation with total weekly consumption - but relationship is slightly less good than for averages. Could be because of the changing balance point\n",
    "- Other weather data not particularly important - so start with temperature\n",
    "- Time dependance not really explored yet - instead learning attibutes about temperature dependance based on weekly data and then using those for hourly data\n",
    "- The strength of temperature as a predictor varies between building types - It is strongest for office buildings and lodging/residential. Education buildings have much bigger drop offs in the summer than you would expect based on temperature alone - presumeably because they are not used\n",
    "\n",
    "# To Explore\n",
    "\n",
    "- make a meter object...?\n",
    "- some part of meter reading should correlate with temperature - what about summing all of the meter readings together and seeing then seperating out use? Issue is that we don't know if they are in the same unit\n",
    "- change timestamp data to local time\n",
    "- Add residuals back in just based on building, meter and timestamp\n",
    "\n"
   ]
  },
  {
   "cell_type": "markdown",
   "metadata": {},
   "source": []
  },
  {
   "cell_type": "code",
   "execution_count": null,
   "metadata": {},
   "outputs": [],
   "source": []
  }
 ],
 "metadata": {
  "kernelspec": {
   "display_name": "ASHRAE",
   "language": "python",
   "name": "ashrae"
  },
  "language_info": {
   "codemirror_mode": {
    "name": "ipython",
    "version": 3
   },
   "file_extension": ".py",
   "mimetype": "text/x-python",
   "name": "python",
   "nbconvert_exporter": "python",
   "pygments_lexer": "ipython3",
   "version": "3.7.4"
  }
 },
 "nbformat": 4,
 "nbformat_minor": 2
}

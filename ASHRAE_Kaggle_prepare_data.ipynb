{
 "cells": [
  {
   "cell_type": "code",
   "execution_count": 11,
   "metadata": {},
   "outputs": [],
   "source": [
    "import pandas as pd\n",
    "from IPython.display import display\n",
    "import matplotlib.pyplot as plt\n",
    "\n",
    "import ashrae_constants as const\n",
    "import prepare_data as prep"
   ]
  },
  {
   "cell_type": "markdown",
   "metadata": {},
   "source": [
    "# Import the raw data"
   ]
  },
  {
   "cell_type": "code",
   "execution_count": 12,
   "metadata": {},
   "outputs": [
    {
     "name": "stdout",
     "output_type": "stream",
     "text": [
      "Importing data from store_raw.h5\n",
      "NaNs for building_metadata\n"
     ]
    },
    {
     "data": {
      "text/plain": [
       "site_id           0\n",
       "building_id       0\n",
       "primary_use       0\n",
       "square_feet       0\n",
       "year_built      774\n",
       "floor_count    1094\n",
       "dtype: int64"
      ]
     },
     "metadata": {},
     "output_type": "display_data"
    },
    {
     "name": "stdout",
     "output_type": "stream",
     "text": [
      "NaNs for weather_train\n"
     ]
    },
    {
     "data": {
      "text/plain": [
       "site_id                   0\n",
       "timestamp                 0\n",
       "air_temperature          55\n",
       "cloud_coverage        69173\n",
       "dew_temperature         113\n",
       "precip_depth_1_hr     50289\n",
       "sea_level_pressure    10618\n",
       "wind_direction         6268\n",
       "wind_speed              304\n",
       "dtype: int64"
      ]
     },
     "metadata": {},
     "output_type": "display_data"
    },
    {
     "name": "stdout",
     "output_type": "stream",
     "text": [
      "NaNs for weather_test\n"
     ]
    },
    {
     "data": {
      "text/plain": [
       "site_id                    0\n",
       "timestamp                  0\n",
       "air_temperature          104\n",
       "cloud_coverage        140448\n",
       "dew_temperature          327\n",
       "precip_depth_1_hr      95588\n",
       "sea_level_pressure     21265\n",
       "wind_direction         12370\n",
       "wind_speed               460\n",
       "dtype: int64"
      ]
     },
     "metadata": {},
     "output_type": "display_data"
    },
    {
     "name": "stdout",
     "output_type": "stream",
     "text": [
      "NaNs for train\n"
     ]
    },
    {
     "data": {
      "text/plain": [
       "building_id      0\n",
       "meter            0\n",
       "timestamp        0\n",
       "meter_reading    0\n",
       "dtype: int64"
      ]
     },
     "metadata": {},
     "output_type": "display_data"
    },
    {
     "name": "stdout",
     "output_type": "stream",
     "text": [
      "NaNs for test\n"
     ]
    },
    {
     "data": {
      "text/plain": [
       "row_id         0\n",
       "building_id    0\n",
       "meter          0\n",
       "timestamp      0\n",
       "dtype: int64"
      ]
     },
     "metadata": {},
     "output_type": "display_data"
    }
   ],
   "source": [
    "raw_data = prep.get_raw_data('ashrae-energy-prediction', cache_file='store_raw.h5')\n",
    "prep.print_nan_counts_all_dfs(raw_data)"
   ]
  },
  {
   "cell_type": "markdown",
   "metadata": {},
   "source": [
    "### Check for large values"
   ]
  },
  {
   "cell_type": "code",
   "execution_count": 13,
   "metadata": {},
   "outputs": [
    {
     "name": "stdout",
     "output_type": "stream",
     "text": [
      "There are 10 buildings with meter readings above 0M: {1088, 993, 1159, 778, 1099, 1197, 1168, 954, 60, 1021}\n",
      "There are 1 buildings with meter readings above 1M: {1099}\n",
      "There are 1 buildings with meter readings above 10M: {1099}\n"
     ]
    }
   ],
   "source": [
    "thresholds = [1_00_000, 1_000_000, 10_000_000]\n",
    "high_meter_buildings = prep.get_buildings_with_high_meter(raw_data['train'], thresholds)"
   ]
  },
  {
   "cell_type": "code",
   "execution_count": 14,
   "metadata": {},
   "outputs": [
    {
     "data": {
      "text/plain": [
       "{100000: {60, 778, 954, 993, 1021, 1088, 1099, 1159, 1168, 1197},\n",
       " 1000000: {1099},\n",
       " 10000000: {1099}}"
      ]
     },
     "execution_count": 14,
     "metadata": {},
     "output_type": "execute_result"
    }
   ],
   "source": [
    "high_meter_buildings"
   ]
  },
  {
   "cell_type": "code",
   "execution_count": 15,
   "metadata": {},
   "outputs": [
    {
     "name": "stderr",
     "output_type": "stream",
     "text": [
      "/anaconda3/envs/ASHRAE/lib/python3.7/site-packages/ipykernel_launcher.py:3: UserWarning: Boolean Series key will be reindexed to match DataFrame index.\n",
      "  This is separate from the ipykernel package so we can avoid doing imports until\n"
     ]
    },
    {
     "data": {
      "image/png": "[encoded data removed]",
      "text/plain": [
       "<Figure size 432x288 with 1 Axes>"
      ]
     },
     "metadata": {
      "needs_background": "light"
     },
     "output_type": "display_data"
    }
   ],
   "source": [
    "raw_train = raw_data['train']\n",
    "for b_id in high_meter_buildings[1000000]:\n",
    "    raw_data['train'][raw_train.building_id == b_id][raw_train.meter == 2].meter_reading.plot()\n",
    "    plt.show()"
   ]
  },
  {
   "cell_type": "code",
   "execution_count": 16,
   "metadata": {},
   "outputs": [
    {
     "data": {
      "text/html": [
       "<div>\n",
       "<style scoped>\n",
       "    .dataframe tbody tr th:only-of-type {\n",
       "        vertical-align: middle;\n",
       "    }\n",
       "\n",
       "    .dataframe tbody tr th {\n",
       "        vertical-align: top;\n",
       "    }\n",
       "\n",
       "    .dataframe thead th {\n",
       "        text-align: right;\n",
       "    }\n",
       "</style>\n",
       "<table border=\"1\" class=\"dataframe\">\n",
       "  <thead>\n",
       "    <tr style=\"text-align: right;\">\n",
       "      <th></th>\n",
       "      <th>site_id</th>\n",
       "      <th>building_id</th>\n",
       "      <th>primary_use</th>\n",
       "      <th>square_feet</th>\n",
       "      <th>year_built</th>\n",
       "      <th>floor_count</th>\n",
       "    </tr>\n",
       "  </thead>\n",
       "  <tbody>\n",
       "    <tr>\n",
       "      <th>1099</th>\n",
       "      <td>13</td>\n",
       "      <td>1099</td>\n",
       "      <td>Education</td>\n",
       "      <td>332884</td>\n",
       "      <td>NaN</td>\n",
       "      <td>NaN</td>\n",
       "    </tr>\n",
       "  </tbody>\n",
       "</table>\n",
       "</div>"
      ],
      "text/plain": [
       "      site_id  building_id primary_use  square_feet  year_built  floor_count\n",
       "1099       13         1099   Education       332884         NaN          NaN"
      ]
     },
     "execution_count": 16,
     "metadata": {},
     "output_type": "execute_result"
    }
   ],
   "source": [
    "#Not just one anomolous data point. Let's find out more about the building\n",
    "raw_data['building_metadata'][raw_data['building_metadata'].building_id == 1099]"
   ]
  },
  {
   "cell_type": "markdown",
   "metadata": {},
   "source": [
    "Not just one value so not sure what to do about this - leave for now"
   ]
  },
  {
   "cell_type": "markdown",
   "metadata": {},
   "source": [
    "### Strange values"
   ]
  },
  {
   "cell_type": "code",
   "execution_count": 17,
   "metadata": {},
   "outputs": [],
   "source": [
    "# It is reported in this discussion by @barnwellguy that All electricity meter is 0 until May 20 for site_id == 0.\n",
    "buildings_site_0 = raw_data['building_metadata'].building_id[raw_data['building_metadata'].site_id == 0]\n",
    "elec_buildings_site_0 = raw_train[(raw_train.building_id.isin(list(buildings_site_0)))\n",
    "                                 & (raw_train.meter == 0)]\n",
    "elec_buildings_site_0.loc[:,'timestamp'] = pd.to_datetime(elec_buildings_site_0['timestamp'])\n",
    "elec_buildings_site_0_pre_20may = elec_buildings_site_0[elec_buildings_site_0['timestamp'] < \"2016-05-21\"]"
   ]
  },
  {
   "cell_type": "code",
   "execution_count": 18,
   "metadata": {},
   "outputs": [],
   "source": [
    "elec_buildings_site_0_pre_20may_pivoted = elec_buildings_site_0_pre_20may.pivot(index='timestamp',\n",
    "                                     columns = 'building_id', \n",
    "                                     values = 'meter_reading')"
   ]
  },
  {
   "cell_type": "code",
   "execution_count": 19,
   "metadata": {
    "scrolled": true
   },
   "outputs": [
    {
     "data": {
      "image/png": "[encoded data removed]",
      "text/plain": [
       "<Figure size 432x288 with 1 Axes>"
      ]
     },
     "metadata": {
      "needs_background": "light"
     },
     "output_type": "display_data"
    }
   ],
   "source": [
    "elec_buildings_site_0_pre_20may_pivoted.plot(legend=False)\n",
    "plt.show()"
   ]
  },
  {
   "cell_type": "markdown",
   "metadata": {},
   "source": [
    "There is some data there for all of the buildings but it is very odd - leave for now but bear in mind"
   ]
  },
  {
   "cell_type": "markdown",
   "metadata": {},
   "source": [
    "### Are their missing timestamps?"
   ]
  },
  {
   "cell_type": "markdown",
   "metadata": {},
   "source": [
    "#### Weather train"
   ]
  },
  {
   "cell_type": "code",
   "execution_count": 20,
   "metadata": {},
   "outputs": [
    {
     "name": "stdout",
     "output_type": "stream",
     "text": [
      "There are 139773 timestamps in the data. The full date range is 8784 long and there are 16 sites so there should be 140544 timestamps in the data. There are therefore 771 missing. \n"
     ]
    },
    {
     "data": {
      "text/plain": [
       "771"
      ]
     },
     "execution_count": 20,
     "metadata": {},
     "output_type": "execute_result"
    }
   ],
   "source": [
    "prep.count_missing_timestamps(raw_data['weather_train'])"
   ]
  },
  {
   "cell_type": "markdown",
   "metadata": {},
   "source": [
    "#### Weather test"
   ]
  },
  {
   "cell_type": "code",
   "execution_count": 21,
   "metadata": {},
   "outputs": [
    {
     "name": "stdout",
     "output_type": "stream",
     "text": [
      "There are 277243 timestamps in the data. The full date range is 17520 long and there are 16 sites so there should be 280320 timestamps in the data. There are therefore 3077 missing. \n"
     ]
    },
    {
     "data": {
      "text/plain": [
       "3077"
      ]
     },
     "execution_count": 21,
     "metadata": {},
     "output_type": "execute_result"
    }
   ],
   "source": [
    "prep.count_missing_timestamps(raw_data['weather_test'])"
   ]
  },
  {
   "cell_type": "markdown",
   "metadata": {},
   "source": [
    "So weather data is missing some timestamps in both test and train"
   ]
  },
  {
   "cell_type": "markdown",
   "metadata": {},
   "source": [
    "### So need to..."
   ]
  },
  {
   "cell_type": "markdown",
   "metadata": {},
   "source": [
    " - fill in NAN's in weather data\n",
    " - add missing dates to weather data and interpolate the blanks\n",
    " - Not sure what to do about building 1099's steam data - doesn't seem to be just one anomoly\n",
    " - Leave the nans in the building dataframe for now - I don't think we need to use those features\n"
   ]
  },
  {
   "cell_type": "markdown",
   "metadata": {},
   "source": [
    "## Fix them, reformat a few columns and add meter type names"
   ]
  },
  {
   "cell_type": "code",
   "execution_count": null,
   "metadata": {},
   "outputs": [
    {
     "name": "stdout",
     "output_type": "stream",
     "text": [
      "Cleaning weather_train dataset\n",
      "Cleaning weather_test dataset\n"
     ]
    }
   ],
   "source": [
    "cleaned_data = prep.clean_data(raw_data)"
   ]
  },
  {
   "cell_type": "code",
   "execution_count": null,
   "metadata": {},
   "outputs": [],
   "source": [
    "prep.print_nan_counts_all_dfs(cleaned_data)"
   ]
  },
  {
   "cell_type": "code",
   "execution_count": null,
   "metadata": {},
   "outputs": [],
   "source": [
    "prep.count_missing_timestamps(cleaned_data['weather_train'])"
   ]
  },
  {
   "cell_type": "code",
   "execution_count": null,
   "metadata": {},
   "outputs": [],
   "source": [
    "prep.count_missing_timestamps(cleaned_data['weather_test'])"
   ]
  },
  {
   "cell_type": "markdown",
   "metadata": {},
   "source": [
    "# 1. Have a look at the data more generally\n",
    "### 1.1 Building metadata"
   ]
  },
  {
   "cell_type": "code",
   "execution_count": null,
   "metadata": {},
   "outputs": [],
   "source": [
    "cleaned_data['building_metadata']"
   ]
  },
  {
   "cell_type": "code",
   "execution_count": null,
   "metadata": {},
   "outputs": [],
   "source": [
    "cleaned_data['building_metadata'].describe()"
   ]
  },
  {
   "cell_type": "markdown",
   "metadata": {},
   "source": [
    "## 1.2 Weather training data"
   ]
  },
  {
   "cell_type": "code",
   "execution_count": null,
   "metadata": {},
   "outputs": [],
   "source": [
    "cleaned_data['weather_train']"
   ]
  },
  {
   "cell_type": "code",
   "execution_count": null,
   "metadata": {},
   "outputs": [],
   "source": [
    "cleaned_data['weather_train'].describe()"
   ]
  },
  {
   "cell_type": "markdown",
   "metadata": {},
   "source": [
    "## 1.3 Consumption training data"
   ]
  },
  {
   "cell_type": "code",
   "execution_count": null,
   "metadata": {},
   "outputs": [],
   "source": [
    "cleaned_data['train']"
   ]
  },
  {
   "cell_type": "code",
   "execution_count": null,
   "metadata": {},
   "outputs": [],
   "source": [
    "cleaned_data['test']"
   ]
  },
  {
   "cell_type": "code",
   "execution_count": null,
   "metadata": {},
   "outputs": [],
   "source": [
    "cleaned_data['train'].describe()"
   ]
  },
  {
   "cell_type": "markdown",
   "metadata": {},
   "source": [
    "## 2 Combined data "
   ]
  },
  {
   "cell_type": "markdown",
   "metadata": {},
   "source": [
    "### 2.1 Stick all data together, add variables for hour of day and weekend/weekday and split on meter type"
   ]
  },
  {
   "cell_type": "code",
   "execution_count": null,
   "metadata": {},
   "outputs": [],
   "source": [
    "joined_data = join_input_data_and_multi_index(cleaned_data, 'train')"
   ]
  },
  {
   "cell_type": "code",
   "execution_count": null,
   "metadata": {},
   "outputs": [],
   "source": [
    "joined_data_dict = split_on_meter_type(joined_data, meter_types)"
   ]
  }
 ],
 "metadata": {
  "kernelspec": {
   "display_name": "ASHRAE",
   "language": "python",
   "name": "ashrae"
  },
  "language_info": {
   "codemirror_mode": {
    "name": "ipython",
    "version": 3
   },
   "file_extension": ".py",
   "mimetype": "text/x-python",
   "name": "python",
   "nbconvert_exporter": "python",
   "pygments_lexer": "ipython3",
   "version": "3.7.4"
  }
 },
 "nbformat": 4,
 "nbformat_minor": 2
}
